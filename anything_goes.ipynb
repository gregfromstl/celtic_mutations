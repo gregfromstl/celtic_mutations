{
 "cells": [
  {
   "cell_type": "code",
   "execution_count": 73,
   "outputs": [],
   "source": [
    "import torch\n",
    "import torch.nn\n",
    "import torch.optim\n",
    "\n",
    "from torchtext import data\n",
    "from torchtext import datasets\n",
    "\n",
    "import spacy\n",
    "import numpy as np\n",
    "\n",
    "import time\n",
    "import random"
   ],
   "metadata": {
    "collapsed": false,
    "pycharm": {
     "name": "#%%\n"
    }
   }
  },
  {
   "cell_type": "code",
   "execution_count": 129,
   "outputs": [],
   "source": [
    "train_file = \"data/train.tsv\"\n",
    "test_file = \"\"\n",
    "val_split = 0.2"
   ],
   "metadata": {
    "collapsed": false,
    "pycharm": {
     "name": "#%%\n"
    }
   }
  },
  {
   "cell_type": "code",
   "execution_count": 74,
   "outputs": [],
   "source": [
    "SEED = 1234\n",
    "\n",
    "random.seed(SEED)\n",
    "np.random.seed(SEED)\n",
    "torch.manual_seed(SEED)\n",
    "torch.backends.cudnn.deterministic = True"
   ],
   "metadata": {
    "collapsed": false,
    "pycharm": {
     "name": "#%%\n"
    }
   }
  },
  {
   "cell_type": "code",
   "execution_count": 75,
   "outputs": [],
   "source": [
    "TEXT = data.Field(lower = True)\n",
    "UD_TAGS = data.Field(unk_token = None)\n",
    "PTB_TAGS = data.Field(unk_token = None)"
   ],
   "metadata": {
    "collapsed": false,
    "pycharm": {
     "name": "#%%\n"
    }
   }
  },
  {
   "cell_type": "code",
   "execution_count": 97,
   "outputs": [],
   "source": [
    "fields = ((\"text\", TEXT), (\"tags\", UD_TAGS), (\"ptbtags\", PTB_TAGS))"
   ],
   "metadata": {
    "collapsed": false,
    "pycharm": {
     "name": "#%%\n"
    }
   }
  },
  {
   "cell_type": "code",
   "execution_count": 130,
   "outputs": [
    {
     "name": "stderr",
     "output_type": "stream",
     "text": [
      "/Library/Frameworks/Python.framework/Versions/3.7/lib/python3.7/site-packages/torchtext/data/example.py:78: UserWarning: Example class will be retired in the 0.8.0 release and moved to torchtext.legacy. Please see 0.7.0 release notes for further information.\n",
      "  warnings.warn('Example class will be retired in the 0.8.0 release and moved to torchtext.legacy. Please see 0.7.0 release notes for further information.', UserWarning)\n"
     ]
    }
   ],
   "source": [
    "train_data = datasets.SequenceTaggingDataset(train_file, fields)\n",
    "val_data = datasets.SequenceTaggingDataset(train_file, fields)\n",
    "test_data = datasets.SequenceTaggingDataset(train_file, fields)"
   ],
   "metadata": {
    "collapsed": false,
    "pycharm": {
     "name": "#%%\n"
    }
   }
  },
  {
   "cell_type": "code",
   "execution_count": 99,
   "outputs": [
    {
     "name": "stdout",
     "output_type": "stream",
     "text": [
      "Training samples: 12543\n",
      "Validation samples: 2002\n",
      "Testing samples: 12543\n"
     ]
    }
   ],
   "source": [
    "print(\"Training samples: {}\".format(len(train_data)))\n",
    "print(\"Validation samples: {}\".format(len(val_data)))\n",
    "print(\"Testing samples: {}\".format(len(train_data)))"
   ],
   "metadata": {
    "collapsed": false,
    "pycharm": {
     "name": "#%%\n"
    }
   }
  },
  {
   "cell_type": "code",
   "execution_count": 100,
   "outputs": [
    {
     "name": "stdout",
     "output_type": "stream",
     "text": [
      "{'text': ['al', '-', 'zaman', ':', 'american', 'forces', 'killed', 'shaikh', 'abdullah', 'al', '-', 'ani', ',', 'the', 'preacher', 'at', 'the', 'mosque', 'in', 'the', 'town', 'of', 'qaim', ',', 'near', 'the', 'syrian', 'border', '.'], 'tags': ['PROPN', 'PUNCT', 'PROPN', 'PUNCT', 'ADJ', 'NOUN', 'VERB', 'PROPN', 'PROPN', 'PROPN', 'PUNCT', 'PROPN', 'PUNCT', 'DET', 'NOUN', 'ADP', 'DET', 'NOUN', 'ADP', 'DET', 'NOUN', 'ADP', 'PROPN', 'PUNCT', 'ADP', 'DET', 'ADJ', 'NOUN', 'PUNCT'], 'ptbtags': ['NNP', 'HYPH', 'NNP', ':', 'JJ', 'NNS', 'VBD', 'NNP', 'NNP', 'NNP', 'HYPH', 'NNP', ',', 'DT', 'NN', 'IN', 'DT', 'NN', 'IN', 'DT', 'NN', 'IN', 'NNP', ',', 'IN', 'DT', 'JJ', 'NN', '.']}\n"
     ]
    }
   ],
   "source": [
    "print(vars(train_data.examples[0]))"
   ],
   "metadata": {
    "collapsed": false,
    "pycharm": {
     "name": "#%%\n"
    }
   }
  },
  {
   "cell_type": "code",
   "execution_count": 101,
   "outputs": [],
   "source": [
    "MIN_FREQ = 2\n",
    "\n",
    "TEXT.build_vocab(train_data,\n",
    "                 min_freq = MIN_FREQ)\n",
    "UD_TAGS.build_vocab(train_data)\n",
    "PTB_TAGS.build_vocab(train_data)"
   ],
   "metadata": {
    "collapsed": false,
    "pycharm": {
     "name": "#%%\n"
    }
   }
  },
  {
   "cell_type": "code",
   "execution_count": 102,
   "outputs": [
    {
     "name": "stdout",
     "output_type": "stream",
     "text": [
      "Unique tokens in TEXT: 8866\n",
      "Unique tokens in UD_TAG: 18\n",
      "Unique tokens in PTB_TAG: 51\n"
     ]
    }
   ],
   "source": [
    "print(\"Unique tokens in TEXT: {}\".format(len(TEXT.vocab)))\n",
    "print(\"Unique tokens in UD_TAG: {}\".format(len(UD_TAGS.vocab)))\n",
    "print(\"Unique tokens in PTB_TAG: {}\".format(len(PTB_TAGS.vocab)))"
   ],
   "metadata": {
    "collapsed": false,
    "pycharm": {
     "name": "#%%\n"
    }
   }
  },
  {
   "cell_type": "code",
   "execution_count": 103,
   "outputs": [
    {
     "name": "stdout",
     "output_type": "stream",
     "text": [
      "['<unk>', '<pad>', 'the', '.', ',', 'to', 'and', 'a', 'of', 'i', 'in', 'is', 'you', 'that', 'it', 'for', '-', 'have', '\"', 'on', 'was', 'with', 'this', 'be', 'are', 'they', 'not', 'as', 'we', \"'s\", 'my', ')', '(', 'do', 'will', 'he', 'at', '?', 'but', 'if', 'or', 'your', 'from', \"n't\", 'by', 'can', 'would', 'me', ':', 'there', 'so', '!', 'all', 'has', 'an', 'had', 'one', 'out', 'about', 'what', 'their', 'like', 'time', 'were', 'when', 'up', 'get', 'just', 'his', 'our', 'some', 'who', 'them', 'know', 'which', 'been', 'also', 'am', 'us', 'very', 'any', 'more', 'no', 'good', 'did', 'could', 'him', 'go', 'new', 'other', 'she', 'only', 'please', '$', 'how', 'should', 'people', 'may', \"'\", 'then', 'back', 'now', 'said', '...', 'even', 'after', 'work', 'bush', 'want', 'well', 'her', 'great', '/', 'because', 'way', 'see', 'best', 'than', 'place', 'these', \"'m\", 'into', 'take', 'going', 'over', 'service', 'need', 'thanks', 'make', 'many', 'before', 'year', 'here', 'number', 'day', 'think', 'two', 'food', 'much', 'let', 'first', 's', 'its', 'call', 'does', '2', '--', 'help', 'years', 'being', 'never', 'really', \"'ll\", 'most', 'pm', 'use', 'made', 'still', 'same', 'world', 'right', 'got', 'say', 'another', 'give', 'last', 'off', 'since', '3', \"'ve\", 'those', 'find', 'too', 'where', 'around', 'put', 'again', 'iraq', 'sure', '1', 'down', 'little', 'long', 'al', 'better', 'price', '&', 'both', 'told', 'through', 'called', 'next', 'few', 'while', 'days', 'look', 'enron', '4', 'come', 'home', 'used', 'always', 'feel', \"'re\", ';', 'business', 'car', '5', 'change', 'name', 'such', 'every', 'family', 'own', 'lot', 'money', 'took', 'ca', 'however', 'keep', 'week', 'between', 'ever', 'done', 'experience', 'love', 'something', 'states', 'try', 'already', 'company', 'united', 'anyone', 'office', '10', 'doing', 'night', 'things', 'job', 'looking', 'end', 'iran', 'recommend', 'staff', 'thing', 'under', 'm', 'went', 'came', 'each', 'attached', 'life', 'might', 'room', 'china', 'group', 'old', 'away', 'anything', 'found', 'nice', 'against', 'getting', 'order', 'nt', 'once', 'power', 'problem', 'questions', 'hope', 'point', 'water', 'american', 'during', 'military', 'thank', 'though', 'able', 'amount', 'bad', 'meeting', 'phone', 'state', 'nothing', 'president', 'times', '!!', 'care', 'deal', 'email', 'far', 'having', 'today', '..', 'agreement', 'person', 'actually', 'asked', 'left', 'yes', 'big', 'else', 'excellent', 'high', 'information', 'live', 'without', 'country', 'sent', 'three', 'gas', 'house', 'per', 'small', 'someone', 'trying', 'until', 'war', 'why', 'working', 'date', 'india', 'john', 'must', 'part', 'area', 'government', 'believe', 'enough', 'least', 'ok', 'review', 'hard', 'probably', 'qaeda', 'read', 'says', 'everything', 'horse', 'later', 'list', 'oil', 'percentage', 'send', 'tell', 'wanted', '6', 'months', 'school', 'different', 'due', 'forward', 'international', 'leave', 'national', 'start', '!!!', '....', '20', 'below', 'free', 'yet', 'case', 'line', 'possible', 'received', 'stay', 'bit', 'george', 'letter', 'real', 'thought', 'friday', 'friendly', 'month', 'needs', 'pretty', 'report', 'second', 'security', 'set', 'taking', 'talk', \"'d\", 'check', 'customer', 'dr.', 'fact', 'full', 'pay', 'system', 'energy', 'highly', 'hours', 'within', '2005', 'couple', 'everyone', 'pakistan', 'places', 'understand', 'using', 'open', 'september', 'show', 'soon', 'space', '<<', 'ask', 'cost', 'friend', 'friends', 'hotel', 'less', 'making', 'mark', 'question', 'return', 'run', 'several', '2003', '>>', 'close', 'early', 'following', 'front', 'mind', 'process', 'wait', 'wo', 'based', 'children', 'comments', 'either', 'guys', 'issue', 'means', 'plan', 'services', 'visit', 'whole', 'almost', 'along', 'americans', 'april', 'buy', 'fax', 'gave', 'global', 'hand', 'happy', 'including', 'kind', 'message', 'mr.', 'prices', 'problems', 'quite', 'store', '*', '2004', 'become', 'eat', 'game', 'helpful', 'issues', 'jeff', 'monday', 'outside', 'restaurant', 'together', 'town', 'whether', '2001', 'above', 'ago', 'although', 'cat', 'clean', 'important', 'july', 'legal', 'minutes', 'others', 'remember', 'top', 'add', 'file', 'fine', 'likely', 'market', 'maybe', 'quality', 'texas', 'weeks', '>', 'available', 'credit', 'given', 'large', 'members', 'morning', 'program', 'provide', '<', 'air', 'dog', 'draft', 'earlier', 'hair', 'houston', 'indian', 'late', 'sara', 'test', 'tried', 'zawahiri', 'answer', 'b', 'death', 'discuss', 'especially', 'form', 'fun', 'meet', 'nasa', 'north', 'note', 'peace', 'reason', 'regards', 'south', 'worth', '’s', '2000', 'afghanistan', 'anthrax', 'charge', 'coming', 'doctor', 'etc', 'further', 'general', 'iraqi', 'kids', 'law', 'rate', 'support', 'word', 'according', 'canada', 'easy', 'former', 'guy', 'israel', 'mean', 'regarding', 'request', 'stop', 'tank', 'young', '#', '11', 'bill', 'cage', 'city', 'continue', 'local', 'move', 'needed', 'news', 'points', 'professional', 'started', ':)', 'changes', 'door', 'finally', 'four', 'level', 'man', 'mike', 'ones', 'options', 'past', 'recently', 'upon', 'wonderful', 'address', 'contact', 'countries', 'course', 'customers', 'feed', 'head', 'instead', 'known', 'language', 'leaders', 'living', 'period', 'position', 'seems', 'seen', 'team', 'walk', 'weapons', 'wrong', '%', '12', '[', ']', 'campaign', 'comes', 'control', 'definitely', 'entire', 'extremely', 'half', 'lots', 'makes', 'political', 'poor', 'response', 'sorry', 'usually', 'vet', 'works', '100', '15', '30', 'administration', 'board', 'book', 'bring', 'conference', 'hear', 'june', 'light', 'manager', 'march', 'million', 'natural', 'often', 'pet', 'project', 'sea', 'short', 'subject', 'taken', 'website', 'amazing', 'attack', 'baby', 'currently', 'e-mail', 'elections', 'expect', 'forces', 'girl', 'guess', 'heard', 'human', 'idea', 'interested', 'major', 'owner', 'party', 'paul', 'public', 'side', 'special', 'street', 'taliban', 'trip', 'type', 'yourself', 'access', 'chris', 'eggs', 'federal', 'force', 'god', 'health', 'include', 'mentioned', 'metal', 'notice', 'offer', 'risk', 'saying', 'situation', 'st.', 'strong', 'thursday', 'unless', 'worked', '50', '7', '@', 'america', 'among', 'animals', 'cats', 'certain', 'contract', 'david', 'intelligence', 'kept', 'key', 'main', 'officials', 'parents', 'press', 'region', 'rights', 'site', 'tax', 'white', 'wife', '“', '”', '.?', 'across', 'anyway', 'army', 'clear', 'dollars', 'felt', 'final', 'huge', 'inside', 'kay', 'looks', 'management', 'media', 'perfect', 'policy', 'reports', 'shall', 'simply', 'tomorrow', 'trust', 'weekend', '2002', 'application', 'behind', 'black', 'copy', 'counterparty', 'dead', 'dinner', 'face', 'future', 'groups', 'london', 'lunch', 'moving', 'musharraf', 'near', 'piece', 'planning', 'quickly', 'recent', 'religious', 'reviews', 'spent', 'suicide', 'talking', 'u.s.', 'value', 'west', '25', 'act', 'activities', 'cia', 'cruise', 'fish', 'gone', 'hi', 'perhaps', 'play', 'product', 'provided', 'reasonable', 'rude', 'six', 'worst', '8', 'brought', 'chance', 'cut', 'daily', 'department', 'egyptian', 'example', 'gulf', 'history', 'member', 'option', 'paid', 'post', 'ready', 'red', 'rest', 'running', 'save', 'saw', 'settlement', 'sometimes', 'total', 'turn', 'vince', 'winter', 'additional', 'afternoon', 'areas', 'attend', 'basis', 'body', 'bus', 'committee', 'drive', 'enjoy', 'europe', 'expensive', 'fall', 'fixed', 'follow', 'hot', 'island', 'islands', 'itself', 'lack', 'learn', 'longer', 'personal', 'sign', 'signed', 'snake', 'summer', 'sunday', 'themselves', 'threat', 'true', 'western', 'willing', 'yesterday', 'action', 'attention', 'circle', 'comfortable', 'current', 'delivery', 'east', 'except', 'executive', 'goes', 'held', 'hold', 'horrible', 'initial', 'islamic', 'january', 'location', 'marriage', 'middle', 'moved', 'myself', 'rather', 'richard', 'seeing', 'seem', 'shop', 'shows', 'takes', 'thinking', 'treated', 'tv', 'university', 'waste', 'york', 'absolutely', 'alone', 'approved', 'arab', 'arms', 'august', 'born', 'carol', 'center', 'cover', 'decided', 'desk', 'financial', 'guard', 'hospital', 'info', 'interest', 'involved', 'knew', 'leader', 'lost', 'nearly', 'necessary', 'overall', 'pick', 'population', 'quick', 'related', 'result', 'san', 'search', 'single', 'social', 'species', 'term', 'version', 'vietnam', 'wants', 'washington', 'advice', 'attacks', 'awesome', 'box', 'budget', 'cause', 'certainly', 'commission', 'computer', 'connection', 'delhi', 'eb', 'education', 'employees', 'fresh', 'giving', 'hands', 'k', 'link', 'lopez', 'ltte', 'matter', 'menu', 'numbers', 'ordered', 'parts', 'pizza', 'playing', 'putting', 'range', 'schedule', 'stuff', 'sun', 'trading', 'treatment', 'visa', 'warm', '!!!!', '14', 'andaman', 'apply', 'beautiful', 'birth', 'california', 'cash', 'changed', 'child', 'chinese', 'climate', 'considered', 'correct', 'court', 'dangerous', 'development', 'dogs', 'eating', 'families', 'five', 'handle', 'heat', 'hour', 'increase', 'jihad', 'lead', 'mom', 'online', 'pakistani', 'paper', 'paris', 'payment', 're', 'record', 'research', 'road', 'safe', 'sales', 'simple', 'station', 'step', 'stock', 'territory', 'terror', 'third', 'train', 'travel', 'twice', 'waiting', 'whatever', '|', '13', '16', 'added', 'agency', 'article', 'balance', 'base', 'beyond', 'billion', 'bird', 'blood', 'capital', 'choice', 'coast', 'color', 'completely', 'concern', 'dad', 'design', 'develop', 'difference', 'driving', 'effort', 'ena', 'exactly', 'explained', 'father', 'fbi', 'fight', 'french', 'fully', 'hit', 'items', 'karzai', 'lay', 'leaving', 'lives', 'looked', 'male', 'meat', 'michael', 'mine', 'net', 'page', 'particular', 'pass', 'pictures', 'plans', 'plus', 'posted', 'rates', 'saddam', 'sense', 'suggest', 'training', 'view', 'wednesday', '+', 'actions', 'age', 'agree', 'aware', 'bin', 'building', 'buying', 'cargill', 'cheap', 'chicken', 'clearly', 'consider', 'defense', 'difficult', 'epm', 'etc.', 'fantastic', 'fear', 'feet', 'fit', 'gives', 'governor', 'green', 'happened', 'immediately', 'included', 'internet', 'ireland', 'knows', 'liked', 'lines', 'luck', 'mail', 'nuclear', 'october', 'official', 'operations', 'orders', 'pricing', 'products', 'receive', 'released', 'reported', 'requested', 'senior', 'separate', 'significant', 'sit', 'solution', 'sort', 'source', 'speak', 'sri', 'terrorist', 'thousands', 'transaction', 'treat', 'vs.', 'warming', 'watch', 'web', 'wolves', 'women', \"''\", 'archibald', 'attempt', 'band', 'bear', 'beginning', 'benefit', 'church', 'civil', 'common', 'emergency', 'enjoyed', 'eol', 'evening', 'event', 'events', 'fighting', 'figure', 'girls', 'ground', 'horses', 'imagine', 'industry', 'instructions', 'interesting', 'judge', 'killed', 'laden', 'mohammed', 'november', 'plenty', 'properly', 'purchase', 'quote', 'r', 'remain', 'rules', 'saturday', 'section', 'serious', 'son', 'sound', 'spend', 'spring', 'starting', 'story', 'supposed', 'syria', 'trade', 'turned', 'wolf', 'written', '.....', '0', '9', 'afraid', 'agreed', 'answers', 'anywhere', 'appointment', 'art', 'audit', 'began', 'bigger', 'blue', 'canadian', 'central', 'claim', 'clair', 'class', 'cold', 'companies', 'complete', 'currency', 'decide', 'details', 'director', 'dry', 'economic', 'extra', 'favorite', 'female', 'france', 'graduate', 'hey', 'husband', 'iso', 'japan', 'kill', 'kim', 'lanka', 'larger', 'led', 'limited', 'master', 'meal', 'met', 'modern', 'mostly', 'named', 'names', 'nation', 'normal', 'northern', 'offered', 'oh', 'opinion', 'opportunity', 'otherwise', 'prior', 'refused', 'repair', 'respond', 'results', 'returned', 'self', 'sept.', 'served', 'soldiers', 'somewhere', 'specific', 'star', 'stated', 'steve', 'supreme', 'surgery', 'ten', 'theory', 'touch', 'trained', 'tuesday', 'unit', 'visited', 'wedding', 'wish', 'wood', 'x', '22', 'ahead', 'allowed', 'animal', 'asking', 'atmosphere', 'beatles', 'became', 'begin', 'ben', 'bought', 'card', 'charged', 'cheney', 'chernobyl', 'chess', 'choose', 'client', 'college', 'concerned', 'confirm', 'copies', 'corporate', 'deep', 'determined', 'england', 'estimated', 'evidence', 'faith', 'fast', 'feeling', 'finance', 'firm', 'flight', 'florida', 'fly', 'folks', 'foreign', 'fund', 'glad', 'hamster', 'helped', 'himself', 'independent', 'intended', 'iranian', 'isda', 'ken', 'legs', 'lol', 'marie', 'medical', 'moon', 'murder', 'music', 'network', 'nor', 'obviously', 'pain', 'parking', 'parties', 'personally', 'picture', 'pieces', 'police', 'practice', 'prepared', 'present', 'recommended', 'rooms', 'rule', 'salon', 'scheduled', 'sending', 'seriously', 'showing', 'signs', 'size', 'sleep', 'society', 'spot', 'style', 'table', 'tire', 'tour', 'toward', 'trouble', 'unfortunately', 'via', 'whom', 'woman', '200', '24', '713', '??', 'ability', 'addition', 'adults', 'appreciate', 'approval', 'biological', 'bob', 'build', 'c', 'calling', 'calls', 'cap', 'chair', 'changing', 'cities', 'coffee', 'comment', 'conflict', 'costs', 'data', 'deals', 'decision', 'described', 'disaster', 'drinking', 'drug', 'earth', 'easily', 'ed', 'effective', 'electricity', 'ensure', 'environment', 'f', 'fair', 'february', 'filled', 'film', 'finished', 'fire', 'fix', 'focus', 'happen', 'hearing', 'honest', 'ideas', 'ii', 'insurance', 'interconnect', 'islamists', 'jim', 'jobs', 'kashmir', 'kerry', 'liberty', 'listen', 'michelle', 'minute', 'missing', 'model', 'nail', 'nations', 'none', 'operating', 'organization', 'original', 'owned', 'pair', 'patient', 'pilot', 'posada', 'pressure', 'proposed', 'rat', 'reading', 'reasons', 'reference', 'requirements', 'responsible', 'russia', 'scott', 'sell', 'ship', 'sounds', 'stand', 'standard', 'standards', 'steps', 'task', 'telling', 'terrible', 'troops', 'update', 'weather', 'weight', 'window', 'wine', 'wonder', 'words', '18', '3889', '713-646-3393', '713-853-3989', 'accept', 'accepted', 'account', 'agents', 'allow', 'analyst', 'appreciated', 'assistance', 'bank', 'bathroom', 'bay', 'believed', 'busy', 'camera', 'carol.st.clair@enron.com', 'code', 'columbia', 'contracts', 'cross', 'dates', 'dating', 'designed', 'despite', 'devil', 'died', 'english', 'escape', 'finding', 'fyi', 'generators', 'gets', 'helping', 'helps', 'higher', 'joe', 'keeping', 'knowledge', 'largest', 'laws', 'leash', 'leg', 'lennon', 'mary', 'minimum', 'moment', 'obsf', 'oct', 'orleans', 'painewebber', 'paying', 'peter', 'plants', 'pleased', 'popular', 'progress', 'purchased', 'rabbit', 'raised', 'regime', 'require', 'required', 'reserves', 'ride', 'samuel', 'screen', 'seemed', 'senate', 'sheet', 'showed', 'similar', 'sitting', 'spoke', 'statement', 'stayed', 'stopped', 'sufaat', 'suggestions', 'susan', 'terrorism', 'text', 'therefore', 'vacation', 'values', 'various', 'w', 'wheel', 'whose', 'worry', 'worse', '80', 'activity', 'afghan', 'alliance', 'alternative', 'analysis', 'arrived', 'associate', 'authority', 'behavior', 'birds', 'bondad', 'booked', 'border', 'bottom', 'career', 'caused', 'century', 'certificate', 'checked', 'chief', 'concerns', 'condition', 'confidential', 'county', 'coup', 'dan', 'dance', 'dave', 'dealer', 'december', 'delivered', 'dining', 'discussed', 'disney', 'document', 'documents', 'enrononline', 'facilities', 'floating', 'floor', 'forget', 'formal', 'furniture', 'healthy', 'heart', 'hurt', 'includes', 'informed', 'issued', 'jones', 'land', 'letters', 'linda', 'lists', 'lived', 'men', 'mention', 'minister', 'nook', 'offices', 'okay', 'older', 'owners', 'park', 'particularly', 'physical', 'port', 'questar', 'quoted', 'refer', 'reliable', 'restaurants', 'robert', 'round', 'saudi', 'serve', 'smaller', 'status', 'stories', 'strain', 'student', 'sunni', 'systems', 'tamil', 'taste', 'tourist', 'transmission', 'transportation', 'truth', 'understanding', 'valley', 'video', 'w.', 'waited', 'walked', 'weapon', 'weekly', 'workers', 'writing', '.doc', '21', '26', '60', 'active', 'advise', 'afford', 'affordable', 'aid', 'apartment', 'apparently', 'asia', 'assigned', 'assume', 'attorney', 'authorities', 'average', 'babies', 'ball', 'basically', 'believes', 'birthday', 'blount', 'bombs', 'breakfast', 'cases', 'chairman', 'chemical', 'circles', 'click', 'coalition', 'community', 'confirmed', 'create', 'dark', 'dear', 'deliver', 'direct', 'directions', 'directly', 'discussion', 'doubt', 'ended', 'entity', 'eventually', 'everybody', 'expected', 'experiences', 'explain', 'fairly', 'fat', 'filed', 'follows', 'foot', 'francisco', 'fuel', 'garage', 'gender', 'gregg', 'guidelines', 'heads', 'holding', 'hotels', 'hundreds', 'interviews', 'italian', 'jack', 'killing', 'listed', 'low', 'lower', 'majority', 'mama', 'metro', 'militant', 'missed', 'murders', 'neck', 'opening', 'panel', 'passed', 'planet', 'pleasant', 'pool', 'portion', 'presentation', 'previous', 'promise', 'pull', 'puts', 'radiation', 'reach', 'recall', 'regard', 'regional', 'regular', 'release', 'replace', 'republican', 'requests', 'riding', 'season', 'select', 'series', 'serving', 'sharon', 'ships', 'skills', 'snakes', 'speed', 'standing', 'statements', 'strategy', 'super', 'sweet', 'technology', 'terrorists', 'thoughts', 'throw', 'thus', 'tigers', 'tom', 'transactions', 'treatments', 'truck', 'u', 'uk', 'usual', 'ways', 'whenever', 'win', '’’', '1999', '300', '40', '5:00', '75', 'achieve', 'ahmed', 'alabama', 'antonio', 'appropriate', 'arrest', 'baghdad', 'basic', 'bite', 'brown', 'cake', 'cancel', 'cent', 'checking', 'cheese', 'chicago', 'cindy', 'claims', 'club', 'comparison', 'conditions', 'congress', 'conversation', 'counter', 'created', 'crew', 'crime', 'culture', 'd', 'damage', 'de', 'decade', 'decent', 'declaration', 'decline', 'degree', 'democracy', 'don', 'downtown', 'dress', 'driver', 'economy', 'edit', 'efforts', 'elected', 'engine', 'established', 'execute', 'eye', 'falls', 'fan', 'favor', 'fee', 'feeding', 'filter', 'followed', 'foods', 'fortier', 'freedom', 'funded', 'funding', 'ga', 'games', 'gcp', 'gdp', 'growing', 'guns', 'hate', 'hell', 'humans', 'image', 'impressed', 'inc.', 'internal', 'interview', 'investment', 'james', 'japanese', 'king', 'korea', 'lab', 'laser', 'launch', 'lies', 'links', 'llc', 'located', 'loss', 'loved', 'lovely', 'morality', 'mother', 'mouse', 'moussaoui', 'nine', 'officer', 'officers', 'paulo', 'pets', 'pipeline', 'planned', 'positions', 'positive', 'possibly', 'prefer', 'presence', 'prime', 'private', 'production', 'programs', 'prove', 'ran', 'realize', 'receiving', 'reply', 'representative', 'river', 'robinson', 'role', 'row', 'sao', 'server', 'shower', 'sick', 'sites', 'slow', 'somewhat', 'sources', 'southern', 'spain', 'spokesman', 'steak', 'students', 'successful', 'surprised', 'surrounding', 'talked', 'targets', 'teacher', 'throughout', 'tonight', 'tool', 'toronto', 'track', 'tw', 'unable', 'uvb', 'variety', 'wall', 'watching', 'wondering', 'wow', 'yo', '‘’', '---', '17', '1972', '31', '500', '7:30', '9/11', '???', '`s', 'aafia', 'accident', 'acts', 'adding', 'addresses', 'advance', 'announced', 'appears', 'approve', 'asap', 'asian', 'attachment', 'auto', 'avoid', 'bag', 'barely', 'bed', 'bet', 'blocks', 'brazil', 'break', 'british', 'cafe', 'candidate', 'cast', 'cell', 'centre', 'charges', 'checks', 'chickens', 'christmas', 'claimed', 'cleaned', 'cleaning', 'closed', 'closely', 'clothing', 'commercial', 'confidence', 'confidentiality', 'considering', 'constantly', 'constitution', 'cooked', 'cool', 'corner', 'council', 'custom', 'dated', 'daughter', 'decades', 'delicious', 'demand', 'depends', 'die', 'dies', 'disappointed', 'division', 'documentation', 'double', 'drugs', 'dunn', 'earned', 'entirely', 'equipment', 'exact', 'executed', 'expectations', 'experienced', 'facility', 'failed', 'false', 'familiar', 'feels', 'finish', 'flowers', 'forced', 'fujairah', 'generation', 'gift', 'girlfriend', 'golden', 'grand', 'halal', 'handling', 'happens', 'happiness', 'heavy', 'hello', 'holiday', 'hopefully', 'hr', 'immediate', 'immigration', 'individual', 'iraqis', 'johnson', 'jump', 'khalid', 'kitten', 'load', 'loves', 'lucky', 'mann', 'marketing', 'meaning', 'measure', 'meetings', 'mid', 'mission', 'moslem', 'n', 'na', 'nature', 'notch', 'noticed', 'n’t', 'originally', 'outer', 'outstanding', 'parakeet', 'participate', 'percent', 'perfectly', 'petroleum', 'politics', 'potential', 'prepare', 'print', 'procedure', 'producers', 'promised', 'protection', 'published', 'purpose', 'push', 'rabbits', 'rays', 'recipient', 'reconciliation', 'remains', 'renaissance', 'reportedly', 'responses', 'revised', 'roll', 'sake', 'seas', 'secure', 'seek', 'seeking', 'seven', 'severe', 'shot', 'sides', 'slightly', 'smart', 'specialist', 'spending', 'spread', 'stuck', 'study', 'suffer', 'supporters', 'tablet', 'terms', 'totally', 'tours', 'traffic', 'travelling', 'truly', 'types', 'union', 'usa', 'vote', 'walking', 'wars', 'warwick', 'william', 'windows', 'wrote', 'yoga', '27', '28', ':(', '=', 'absolute', 'accord', 'actual', 'adjust', 'admitted', 'airport', 'ames', 'apart', 'appropriations', 'arabia', 'arctic', 'armed', 'arrive', 'as400', 'assassination', 'assets', 'associated', 'australia', 'beach', 'beat', 'biting', 'boat', 'bowl', 'broke', 'broken', 'cages', 'capable', 'carry', 'cars', 'catch', 'caught', 'chalabi', 'challenges', 'cheapest', 'communication', 'communications', 'compared', 'competitive', 'completed', 'confident', 'continued', 'creating', 'criminal', 'curves', 'cuts', 'dealing', 'defence', 'delete', 'dentist', 'destroy', 'destroyed', 'detail', 'detailed', 'developments', 'dirty', 'dollar', 'doors', 'duty', 'easier', 'eastern', 'eaten', 'effects', 'election', 'elements', 'emails', 'encourage', 'enemy', 'entering', 'essie', 'estimate', 'excited', 'explore', 'exposure', 'eyes', 'feathers', 'ferc', 'figures', 'forever', 'forgot', 'forms', 'forum', 'freeze', 'fundamental', 'gerry', 'goodwyn', 'guests', 'harrison', 'hearings', 'hidden', 'hide', 'homeland', 'hussein', 'impossible', 'incitement', 'income', 'instructor', 'invitation', 'israeli', 'jan', 'jason', 'join', 'jordan', 'katrina', 'kinds', 'kitchen', 'kittens', 'la', 'lake', 'lawyers', 'lighting', 'likes', 'loose', 'loving', 'mad', 'mailings', 'manage', 'manual', 'mariner', 'materials', 'merely', 'mexico', 'missile', 'missiles', 'mississippi', 'mixed', 'monthly', 'mouth', 'movement', 'mujahedeen', 'muscle', 'nails', 'newly', 'noise', 'numerous', 'occupation', 'occurred', 'package', 'pages', 'palestinian', 'paperwork', 'password', 'peoples', 'performance', 'plaster', 'pop', 'poverty', 'presidential', 'prevent', 'produce', 'provides', 'pushed', 'q1', 'removed', 'republic', 'respect', 'responsibility', 'resume', 'returning', 'rice', 'rock', 'rolling', 'russian', 'safety', 'score', 'selection', 'settled', 'shackleton', 'shiite', 'shopping', 'shops', 'signing', 'sink', 'soft', 'song', 'spiritual', 'st', 'stability', 'stars', 'stephanie', 'storm', 'strengthen', 'structure', 'studies', 'success', 'suggestion', 'suite', 'supplies', 'surrounded', 'sushi', 'sussex', 'syrian', 'tana', 'ted', 'temperature', 'terry', 'thinks', 'toes', 'towards', 'traders', 'transfer', 'traveling', 'trial', 'unique', 'vast', 'vehicle', 'venture', 'voice', 'warned', 'worms', 'write', 'yellowstone', '–', '—', '!!!!!!', '***', '1000', '11/28/2000', '120', '200,000', '35', '45', '65', 'abby', 'abroad', 'addressed', 'agel', 'agent', 'aires', 'alberta', 'alleged', 'allocated', 'answered', 'applied', 'approach', 'argentina', 'argue', 'argument', 'aside', 'assistant', 'assuming', 'atlanta', 'attended', 'author', 'backed', 'background', 'balances', 'bar', 'bearded', 'bears', 'benefits', 'blanket', 'blind', 'blog', 'blow', 'bother', 'boy', 'brass', 'bringing', 'broad', 'buenos', 'bunch', 'capability', 'capacity', 'cards', 'caribbean', 'carolina', 'carried', 'carrying', 'ceo', 'chef', 'colors', 'command', 'communist', 'communities', 'complex', 'concerning', 'concluded', 'confused', 'construction', 'contacts', 'content', 'count', 'courses', 'covered', 'craig', 'crap', 'crimes', 'dc', 'degrees', 'developed', 'developing', 'df', 'difficulty', 'disability', 'discovered', 'dish', 'drink', 'drinks', 'drop', 'dropped', 'ecs', 'effect', 'egypt', 'elsewhere', 'enforcement', 'enter', 'entry', 'equal', 'execution', 'expansion', 'expert', 'experts', 'failure', 'farrier', 'fellow', 'ferrous', 'fighter', 'files', 'fill', 'finger', 'focused', 'frequent', 'ft.', 'gain', 'german', 'germany', 'goal', 'goals', 'google', 'grab', 'gray', 'greatly', 'grew', 'grill', 'groom', 'grow', 'guinea', 'hatfill', 'helicopters', 'ice', 'identity', 'indeed', 'inflation', 'inn', 'inner', 'inspection', 'interests', 'investigation', 'islamist', \"it's\", 'italy', 'item', 'kevin', 'ksm', 'lady', 'largely', 'learned', 'learning', 'lee', 'lesson', 'levels', 'lie', 'liquidation', 'machine', 'magic', 'mainly', 'manner', 'markets', 'marry', 'matters', 'messages', 'mile', 'miles', 'mistake', 'molly', 'mountain', 'mountains', 'multiple', 'myanmar', 'naval', 'navy', 'negotiated', 'neighborhood', 'nest', 'nobody', 'normally', 'noted', 'ny', 'nyc', 'oct.', 'ongoing', 'opened', 'operate', 'operation', 'p', 'palestinians', 'parent', 'passing', 'patience', 'philippines', 'pho', 'photos', 'polar', 'powerful', 'premium', 'printed', 'printing', 'projects', 'proper', 'proposal', 'protect', 'proud', 'pub', 'pulled', 'pure', 'rats', 'reality', 'receipt', 'receives', 'records', 'recruiting', 'referred', 'reflect', 'relaxed', 'remove', 'repeatedly', 'retired', 'rhonda', 'rich', 'rick', 'rolls', 'ruy', 'salad', 'sam', 'sanders', 'satanism', 'satisfied', 'seats', 'secretary', 'shuttle', 'signature', 'sj', 'skilled', 'slice', 'software', 'sold', 'somehow', 'sought', 'speaking', 'specifically', 'spray', 'stan', 'stands', 'stores', 'stupid', 'suit', 'supporting', 'suspect', 'technical', 'tickets', 'tires', 'tough', 'tourists', 'towns', 'trot', 'unlimited', 'updated', 'useful', 'vendors', 'vice', 'vietnamese', 'views', 'visiting', 'visits', 'wanting', 'wealth', 'wide', 'wild', 'wilson', 'zealand', '04/30/2001', '11/29/2000', '19', '1971', '1991', '1995', '1998', '1:00', '23', '5000', '67', '70', '800', '8:00', 'aa', 'abuse', 'accordingly', 'accounts', 'acting', 'adjustments', 'advanced', 'affair', 'affected', 'africa', 'alito', 'analysts', 'apartments', 'appeared', 'argued', 'arvn', 'assist', 'assured', 'austin', 'awful', 'baba', 'begun', 'bloody', 'bobby', 'bodies', 'bombings', 'boston', 'branch', 'breaks', 'breeding', 'brief', 'brother', 'built', 'bulb', 'businesses', 'calm', 'caps', 'carbon', 'carefully', 'cares', 'caring', 'category', 'challenging', 'christians', 'citizens', 'civet', 'closing', 'competition', 'complaint', 'comprehensive', 'congratulations', 'consciousness', 'considerable', 'continues', 'coordinator', 'correctly', 'crate', 'creative', 'crisis', 'cruel', 'cruises', 'cultural', 'dasovich', 'dealership', 'dealt', 'deaths', 'dec.', 'decisions', 'decor', 'delta', 'dental', 'depending', 'deployed', 'description', 'destruction', 'determine', 'differences', 'discount', 'distribution', 'district', 'divisions', 'drove', 'dubai', 'dumb', 'dwarf', 'e', 'eager', 'edwards', 'efficient', 'electric', 'elena', 'employment', 'enjoying', 'entities', 'equality', 'ercot', 'error', 'establish', 'european', 'exception', 'exist', 'expanding', 'expecting', 'expense', 'exposed', 'extend', 'fabulous', 'facts', 'fallen', 'fallujah', 'feb', 'females', 'filing', 'flying', 'fool', 'foreigners', 'format', 'founder', 'fries', 'funds', 'gallon', 'gay', 'gotten', 'gross', 'guerrillas', 'guild', 'handled', 'heading', 'historical', 'honestly', 'hospitals', 'hungry', 'id', 'iguazu', 'impact', 'incredibly', 'infinite', 'influence', 'initially', 'invasion', 'invoice', 'jane', 'jeffs', 'kabul', 'karim', 'khan', 'knowledgeable', 'l', 'latest', 'laundry', 'leading', 'leahy', 'leon', 'locations', 'losing', 'louisiana', 'maintenance', 'married', 'martin', 'massive', 'mate', 'material', 'max', 'mccartney', 'meanwhile', 'mechanic', 'medium', 'memory', 'mental', 'merchanting', 'method', 'miss', 'moderate', 'monitor', 'moral', 'movies', 'ms.', 'muscles', 'negative', 'neighbours', 'nervous', 'networks', 'newspaper', 'nguyen', 'no.', 'non-bondad', 'noon', 'o', 'occasions', 'oldest', 'onto', 'opportunities', 'oppose', 'organizations', 'osama', 'ourselves', 'overpriced', 'p&l', 'palace', 'papers', 'participants', 'partners', 'pat', 'path', 'perez', 'permanent', 'pew', 'pg&e', 'phase', 'philly', 'phones', 'picked', 'placed', 'pleasure', 'powell', 'primary', 'privileged', 'propose', 'providing', 'province', 'puppy', 'qualified', 'race', 'racial', 'rahman', 'raise', 'rare', 'rating', 'reached', 'realized', 'reduce', 'refers', 'registered', 'relationship', 'rent', 'replacement', 'reporter', 'reporting', 'requirement', 'rescue', 'resources', 'responsibilities', 'rough', 'route', 'royal', 'safer', 'salary', 'sale', 'salsa', 'sat', 'satan', 'saving', 'scared', 'science', 'session', 'sexual', 'shape', 'sheikh', 'shia', 'shiites', 'shooting', 'shut', 'significantly', 'signoff', 'silkie', 'silkies', 'sitara', 'skin', 'smooth', 'soil', 'somebody', 'sometime', 'spanish', 'split', 'stage', 'straight', 'strike', 'sue', 'sump', 'surface', 'surgeon', 'surprise', 'suspected', 't', 'talks', 'tasted', 'taxes', 'tend', 'tens', 'testing', 'tests', 'thane', 'threatened', 'till', 'titanic', 'title', 'toys', 'trader', 'trail', 'transport', 'transwestern', 'traveled', 'trillion', 'typically', 'unusual', 'upi', 've', 'violence', 'virtually', 'visitors', 'voted', 'walker', 'watched', 'waters', 'wave', 'wire', 'worldwide', 'worried', 'yeah', 'zacarias', '01', '03/15/2001', '1997', '2006', '2010', '2012', '20th', '55', '6:30', '7:00', '8:30', '99', 'abdul', 'aboard', 'accurate', 'accused', 'advised', 'allawi', 'allegedly', 'allies', 'allowance', 'amendment', 'amounts', 'analysis_0712', 'angeles', 'anybody', 'anymore', 'anytime', 'anyways', 'approximately', 'arrange', 'arrested', 'aspect', 'aspects', 'asymmetrical', 'attempts', 'award', 'awarded', 'ayman', 'bangladesh', 'bangs', 'banks', 'barclays', 'barn', 'bc', 'becoming', 'bedroom', 'beings', 'belief', 'billing', 'block', 'bombing', 'books', 'bradley', 'brain', 'brian', 'bright', 'bronze', 'bta', 'buses', 'cabin', 'camp', 'campus', 'cancer', 'captured', 'carnival', 'chain', 'chances', 'cheaper', 'cheek', 'chose', 'christian', 'civilized', 'clay', 'climb', 'clothes', 'co.', 'colin', 'colleagues', 'collection', 'collective', 'colombo', 'commitments', 'commodity', 'compete', 'compressor', 'conferences', 'consideration', 'contacted', 'conversations', 'core', 'corp', 'cozy', 'critical', 'crop', 'crude', 'cure', 'curse', 'cute', 'dale', 'dallas', 'davis', 'dean', 'deeply', 'default', 'deposit', 'diplomacy', 'direction', 'disco', 'dishes', 'dominate', 'dramatic', 'draw', 'dried', 'drill', 'duke', 'ebs', 'egg', 'ekrapels@esaibos.com', 'el', 'emissions', 'employed', 'enjoyable', 'enron.xls', 'enrongss.xls', 'epc', 'er', 'essentially', 'establishment', 'ethnic', 'examples', 'existed', 'existing', 'explanation', 'extreme', 'faced', 'facing', 'fake', 'famous', 'faster', 'fault', 'faxed', 'field', 'figured', 'flat', 'forth', 'generally', 'gentle', 'gon', 'grant', 'greeted', 'grounds', 'guards', 'guide', 'guilty', 'gym', 'habitat', 'hall', 'hamas', 'hang', 'happening', 'harry', 'haven', 'headed', 'heating', 'heaven', 'hens', 'hesitate', 'hiding', 'hire', 'holy', 'homes', 'hopes', 'host', 'hosting', 'hotline', 'hung', 'hurry', 'i.e.', 'ideation', 'ignore', 'ignored', 'ill', 'images', 'implementation', 'incident', 'increased', 'increases', 'individuals', 'initiative', 'innocent', 'inspired', 'instance', 'insurgents', 'intend', 'interceptor', 'introduced', 'invited', 'involvement', 'irish', 'ironically', 'isi', 'islamabad', 'jana', 'jesus', 'joke', 'justice', 'kalkat', 'kandahar', 'kaoshikii', 'kid', 'kidney', 'knife', 'knowing', 'kuwait', 'kyle', 'laptop', 'latter', 'lawyer', 'lbs', 'leadership', 'lebanese', 'leonardo', 'lessons', 'lights', 'limerick', 'literally', 'litter', 'lock', 'los', 'mass', 'mature', 'meant', 'mechanism', 'medicine', 'meh-risk', 'meiring', 'miami', 'mice', 'minor', 'mins', 'mm', 'mma', 'models', 'modem', 'montparnasse', 'mosques', 'movements', 'murderers', 'naked', 'nato', 'necessarily', 'neighbors', 'neither', 'nick', 'nicobar', 'noble', 'non', 'notes', 'obligation', 'occur', 'offensive', 'offers', 'ontario', 'operative', 'operator', 'opposed', 'organized', 'overseas', 'p.m.', 'paint', 'parenteau', 'participation', 'paula', 'peninsula', 'penny', 'performed', 'periods', 'persian', 'personality', 'petsmart', 'plain', 'plane', 'plant', 'plastic', 'played', 'player', 'plays', 'plot', 'pocket', 'poison', 'portland', 'posed', 'poses', 'possibility', 'posting', 'predators', 'previously', 'priced', 'procedures', 'professor', 'professors', 'projected', 'prompt', 'proof', 'pros', 'ps', 'publicly', 'purchasing', 'quantity', 'quiet', 'rain', 'raphael', 'rarely', 'rebels', 'reception', 'receptionist', 'recommendation', 'reflects', 'regularly', 'relatively', 'religion', 'reminder', 'repeat', 'reputation', 'requiring', 'reservation', 'reviewing', 'revision', 'revolutionary', 'reward', 'richmond', 'ripped', 'rise', 'rome', 'ruth', 'ryan', 'sandwich', 'satisfactory', 'scenario', 'selling', 'setting', 'settle', \"sha'lan\", 'share', 'sheik', 'shocked', 'shoot', 'shoulder', 'shown', 'sight', 'simultaneously', 'sincerely', 'sinking', 'slight', 'smith', 'smoke', 'spirit', 'ss', 'stones', 'storage', 'strength', 'studio', 'studying', 'sudan', 'suggested', 'suggesting', 'summary', 'surrender', 'swap', 'sympathy', 'taiwan', 'tame', 'target', 'taxi', 'teeth', 'tent', 'testimony', 'thailand', 'thomas', 'threw', 'ticket', 'tight', 'tile', 'timely', 'timing', 'tons', 'towed', 'toxic', 'transmitted', 'trash', 'tribe', 'turkey', 'typical', 'un', 'unity', 'users', 'vcu', 'victory', 'visible', 'vital', 'vomiting', 'wear', 'weekends', 'worker', 'yazid', 'yellow', 'yoko', '·', '**', '01/12/2001', '01/26/2001', '05/25/2001', '07/17/2000', '1,200', '1.5', '11/10/2000', '11:30', '1561', '15th', '17th', '1968', '1970', '1970s', '1987', '1st', '20,000', '2008', '23rd', '29', '2:00', '2:30', '2nd', '30th', '32', '34', '41', '46', '5th', '6:00', '700', '763736', '7th', '90', '====================================================', '?!', '_', 'a&e', 'accounting', 'acupuncture', 'adjusted', 'admissions', 'adult', 'adventure', 'affairs', 'agra', 'allegations', 'alternatives', 'ambitious', 'ammunition', 'anger', 'anne', 'apologize', 'arm', 'arriving', 'assembly', 'astronauts', 'atta', 'attach', 'attempted', 'attorneys', 'authentic', 'availability', 'barrels', 'becomes', 'bedding', 'beers', 'besides', 'biggest', 'billions', 'blair', 'blame', 'blown', 'blows', 'boarding', 'bond', 'borders', 'bout', 'boyfriend', 'boys', 'brand', 'bread', 'breathe', 'breed', 'brings', 'bs', 'button', 'calculation', 'calendar', 'cambodia', 'causing', 'cc', 'cdec', 'cells', 'charcoal', 'charles', 'chest', 'chicks', 'chiro', 'chocolate', 'circularisation', 'claiming', 'clan', 'clause', 'clinic', 'closer', 'collected', 'combat', 'commander', 'commit', 'communists', 'compaq', 'compassionate', 'compensate', 'compensation', 'complaining', 'conclusion', 'conduct', 'confirming', 'confirms', 'connections', 'conquest', 'conscious', 'consequences', 'consistent', 'contents', 'convenient', 'conviction', 'convince', 'cooperation', 'corners', 'corporation', 'corps', 'correlation', 'counsel', 'coverage', 'creation', 'crossed', 'crucial', 'cuban', 'curb', 'cutting', 'danger', 'debate', 'debt', 'defined', 'degenerate', 'delay', 'democratic', 'demonstrate', 'denton', 'derivatives', 'designer', 'destination', 'developer', 'device', 'devoted', 'diego', 'digital', 'dine', 'directed', 'disappeared', 'disease', 'dispatch', 'donations', 'dr', 'dragon', 'dresses', 'earl', 'easiest', 'edison', 'educational', 'eei', 'electrical', 'elpaso', 'emailed', 'endangered', 'enovate', 'entertainment', 'environmental', 'equine', 'essex', 'evaluation', 'everyday', 'everywhere', 'evil', 'exam', 'excel', 'exists', 'expertise', 'exploration', 'express', 'extended', 'extensive', 'extent', 'fabio', 'factor', 'fancy', 'fees', 'fence', 'filters', 'flakes', 'flowing', 'flows', 'football', 'formed', 'ft', 'fundamentalist', 'gains', 'gem', 'gene', 'gimp', 'glass', 'globe', 'goods', 'granted', 'greater', 'greetings', 'grip', 'guaranteed', 'guest', 'guidance', 'h', 'haircut', 'ham', 'hambali', 'hanging', 'happier', 'harris', 'headquarters', 'heavily', 'heel', 'hence', 'herself', 'highest', 'hindu', 'hino', 'hoax', 'hodge', 'holds', 'hole', 'holidays', 'honda', 'honesty', 'hoping', 'housing', 'hundred', 'hyatt', 'impacts', 'implement', 'implemented', 'imprisoned', 'incorporated', 'increasingly', 'incredible', 'ingredients', 'initiated', 'injury', 'inquiries', 'intellectual', 'interviewers', 'involving', 'ip', 'iron', 'isolated', 'janice', 'jean', 'jewish', 'joined', 'joseph', 'joy', 'judges', 'justin', 'kathy', 'keeps', 'kitty', 'kumaratunga', 'l/c', 'ladies', 'lap', 'lasted', 'laura', 'leads', 'league', 'lease', 'leigh', 'leopold', 'liberal', 'lieutenant', 'lifetime', 'lighter', 'likewise', 'listening', 'lobby', 'lobster', 'loi', 'lope', 'lorie', 'lyrics', 'mainstream', 'maintain', 'males', 'managed', 'managers', 'manufacturer', 'map', 'marketers', 'mart', 'martyrs', 'mayko', 'meals', 'mechanics', 'medal', 'melting', 'mexican', 'mezza', 'mhc', 'midas', 'milk', 'millions', 'minimal', 'moore', 'motor', 'muslims', 'mutual', 'neighbor', 'nightmare', 'nj', 'northeastern', 'northwest', 'notification', 'notified', 'nov.', 'obtain', 'obvious', 'offering', 'okinawa', 'openly', 'overcome', 'overview', 'overwhelming', 'p.m', 'pack', 'painful', 'parks', 'parmesan', 'passcode', 'passport', 'paste', 'patrick', 'patty', 'pays', 'pdt', 'peaceful', 'permission', 'permit', 'pervez', 'philadelphia', 'philip', 'photo', 'picking', 'pig', 'pigs', 'pinkies', 'pioneers', 'planes', 'policies', 'pools', 'populated', 'possibilities', 'pounds', 'practices', 'precisely', 'presented', 'primarily', 'principle', 'privacy', 'prize', 'proceed', 'processing', 'professionalism', 'programme', 'property', 'protected', 'pursuit', 'radical', 'rank', 'raw', 'reaction', 'rear', 'recommendations', 'recorded', 'redlined', 'reduced', 'referenced', 'refund', 'regardless', 'regions', 'register', 'registration', 'regret', 'regulatory', 'relations', 'releases', 'relevant', 'relief', 'remained', 'renewed', 'rep', 'replaced', 'reserve', 'resolved', 'resort', 'restrictions', 'resulted', 'resulting', 'revenues', 'revisions', 'revolution', 'ring', 'risks', 'rod', 'roof', 'routine', 'rush', 's.', 'sandwiches', 'santa', 'sap', 'satisfy', 'saved', 'scam', 'scary', 'schools', 'scientific', 'searching', 'seat', 'secret', 'sector', 'securities', 'seized', 'senator', 'sender', 'separated', 'sets', 'sf', 'shady', 'shanna', 'shared', 'shell', 'shipped', 'shoe', 'shortly', 'siddiqui', 'silent', 'sir', 'sistani', 'sister', 'skill', 'solas', 'southeast', 'southwest', 'spa', 'speech', 'spite', 'spoken', 'sports', 'spots', 'spreadsheet', 'square', 'stable', 'starts', 'staying', 'steel', 'stepped', 'stick', 'stone', 'stream', 'strongly', 'stuart', 'subsequent', 'substantial', 'substantially', 'sum', 'sunburn', 'supposedly', 'surprisingly', 'survived', 'swift', 'switch', 't.v.', 'ta', 'tail', 'tamils', 'tattoo', 'taught', 'taylor', 'teams', 'tensions', 'terrell', 'tet', 'thawed', 'threats', 'thru', 'tiger', 'tip', 'toll', 'topic', 'towing', 'transported', 'travis', 'trees', 'turns', 'twenty', 'tx', 'underground', 'understands', 'units', 'unknown', 'updates', 'urban', 'urine', 'user', 'uses', 'uss', 'ut', 'utility', 'uva', 'vehicles', 'veterans', 'violent', 'virginia', 'volumes', 'waiter', 'wake', 'wan', 'warfare', 'warmth', 'warn', 'warning', 'wash', 'wearing', 'welcome', 'wet', 'wildlife', 'willow', 'wings', 'wise', 'workforce', 'wtc', 'yearly', 'youtube', 'zero', '~', '’', '…', '!!!!!!!', '!?', '-ect-kedne', '......', '.......', '09/16/99', '10,000', '100,000', '102', '10:00', '10:30', '110', '11:00', '150', '1691', '1969', '1973', '1980s', '1993', '19th', '2009', '21st', '22nd', '250', '3,500', '3.5', '33', '345-9945', '400', '42', '47', '48', '5,000', '53', '5:30', '600', '63', '646-8420', '750', '9:30', ':d', ';)', '^_^', '_______', '____________________________________________________________', 'a.m.', 'abdel', 'absorb', 'acceptable', 'accessibility', 'achieving', 'acquiring', 'acronym', 'acted', 'adds', 'administrative', 'admit', 'adnan', 'adopted', 'advantage', 'affect', 'agenda', 'agreements', 'agrees', 'ai', 'aircraft', 'alcohol', 'alright', 'ambulances', 'ana', 'analyses', 'andamans', 'andrew', 'angle', 'angry', 'anniversary', 'annoying', 'answering', 'anthony', 'antibiotics', 'antichrist', 'appetite', 'apple', 'applications', 'applies', 'aquarium', 'arakan', 'armaments', 'arrival', 'arrv.', 'artists', 'arts', 'assassinated', 'assault', 'assessment', 'asset', 'associates', 'ate', 'attacked', 'attempting', 'attitude', 'attract', 'audience', 'autumn', 'ave', \"ba'athists\", 'badly', 'bags', 'bait', 'balcony', 'baluchistan', 'bankrupt', 'barbara', 'bars', 'basking', 'battle', 'bbq', 'beard', 'beer', 'behalf', 'belgium', 'belly', 'belt', 'bending', 'beware', 'bid', 'bike', 'biochemical', 'bites', 'biz', 'bladder', 'blanco', 'bland', 'bless', 'bonus', 'booking', 'boots', 'bosnia', 'boss', 'bothered', 'bowtie', 'branches', 'breaking', 'breath', 'britain', 'brooklyn', 'btw', 'buck', 'bucks', 'bugs', 'bulbs', 'burst', 'butcher', 'cabinet', 'cafes', 'calgary', 'candidates', 'capabilities', 'capture', 'careful', 'cargo', 'carnegie', 'casualties', 'cd', 'ceiling', 'chairs', 'chaos', 'chapter', 'charity', 'chiefs', 'chili', 'choices', 'christ', 'christchurch', 'christopher', 'ciac', 'circulate', 'circumstances', 'civilians', 'classes', 'cleaner', 'clients', 'clinton', 'cloth', 'cm', 'co', 'co-workers', 'collateral', 'comfort', 'commissioners', 'commitment', 'comp.sources.unix', 'complained', 'computers', 'concept', 'concrete', 'confirmation', 'conflicts', 'conservative', 'consumer', 'contained', 'container', 'conventional', 'convincing', 'corp.', 'correspondence', 'couch', 'counted', 'counties', 'countryside', 'couples', 'coupons', 'covers', 'crab', 'craft', 'crappy', 'crash', 'creek', 'critters', 'crra', 'cst', 'cycle', 'damn', 'danny', 'daughters', 'db', 'deb', 'debbie', 'declarations', 'declined', 'defeat', 'defend', 'defensive', 'dehydrated', 'del', 'deliberately', 'demanding', 'democrats', 'demonstrated', 'denise', 'denmark', 'deny', 'dependent', 'depot', 'describe', 'describing', 'deserve', 'deserves', 'desired', 'dessert', 'deterioration', 'dhin', 'dial', 'dictatorship', 'dioxide', 'diplomatic', 'diplomats', 'dire', 'dirt', 'disclose', 'discomfort', 'discouraged', 'discovery', 'discussions', 'diseases', 'distinction', 'distracting', 'distributed', 'dividends', 'doctors', 'domestic', 'dominant', 'dominated', 'doug', 'dow', 'download', 'dozen', 'drafted', 'dragged', 'drilling', 'dropping', 'dsl', 'duck', 'dusting', 'e.g.', 'earthquakes', 'eats', 'ect', 'eerie', 'effected', 'effectively', 'egm', 'eight', 'elder', 'electoral', 'electronic', 'eliminate', 'elite', 'elk', 'ellis', 'emerging', 'empty', 'enable', 'encouraged', 'ene', 'engage', 'enjoys', 'enormous', 'entered', 'entree', 'envelopes', 'equally', 'equipped', 'equity', 'equivalent', 'eric', 'essence', 'establishments', 'evident', 'exceed', 'exile', 'expand', 'expenses', 'expired', 'explosives', 'expressed', 'expression', 'external', 'extraordinary', 'extremist', 'extremists', 'factions', 'falling', 'fashion', 'favorable', 'feature', 'feedback', 'fell', 'fifty', 'fingers', 'firmly', 'firms', 'fiscal', 'fitness', 'fixtures', 'flavor', 'flooding', 'flow', 'forest', 'forming', 'forwarded', 'forwarding', 'fourth', 'frank', 'freeman', 'frequently', 'fried', 'frozen', 'fruit', 'frustrated', 'fry', 'function', 'funeral', 'funny', 'fusionretail', 'fx', 'gained', 'gallery', 'gang', 'garden', 'gate', 'gates', 'gda', 'gerald', 'gonzales', 'governments', 'gracee', 'graduated', 'grain', 'grandma', 'grateful', 'guantanamo', 'guarantee', 'gun', 'gw', 'haha', 'handed', 'handy', 'hardness', 'hassle', 'healing', 'heater', 'heather', 'height', 'hewlett', 'hh', 'hiller', 'holdings', 'holly', 'homosexuality', 'honorable', 'hopeful', 'hospitality', 'hosted', 'hosts', 'household', 'houses', 'hub', 'hubbard', 'humane', 'humanity', 'hunger', 'hurting', 'identify', 'iii', 'illegal', 'immigrants', 'immunity', 'importantly', 'imposing', 'improve', 'inch', 'increasing', 'indefinitely', 'index', 'indicate', 'indicated', 'indicates', 'indonesia', 'inevitably', 'inform', 'informative', 'initiate', 'injured', 'injuries', 'installed', 'installing', 'instant', 'insulting', 'insurgency', 'integrity', 'intends', 'intense', 'interference', 'invented', 'inventory', 'invite', 'iv', 'jafar', 'jaffna', 'jalalabad', 'jamaican', 'jar', 'jazeera', 'jen', 'jerk', 'jerry', 'jets', 'jews', 'joint', 'joking', 'jose', 'juice', 'jury', 'karachi', 'kathleen', 'kennedy', 'kenneth', 'kevalam', 'killers', 'kinda', 'lagesse', 'laid', 'landing', 'laos', 'latin', 'laughing', 'launched', 'launching', 'laurie', 'laurie.ellis@enron.com', 'layer', 'ld2d-#69345-1.doc', 'ld2d-#69366-1.doc', 'legislative', 'letting', 'liberation', 'licensed', 'lifeboats', 'limit', 'lineatus', 'linked', 'liq', 'listened', 'liverpool', 'liz', 'lme', 'lo', 'loan', 'locally', 'locust', 'log', 'logic', 'lonely', 'longest', 'loop', 'lose', 'luna', 'mac', 'magazine', 'mailing', 'maintained', 'maintaining', 'manners', 'manson', 'mar', 'marianne', 'marked', 'marriages', 'marvelous', 'match', 'maviglio', 'maximum', 'mba', 'mcdonald', 'mcginnis', 'meantime', 'measures', 'meditation', 'megawatt', 'melt', 'membership', 'memo', 'memorable', 'meowing', 'merit', 'mess', 'messed', 'messy', 'metals', 'metering', 'microsoft', 'migrant', 'miller', 'minerals', 'miracle', 'mobile', 'mod', 'modified', 'mold', 'montgomery', 'monumental', 'motel', 'motion', 'mount', 'movie', 'mullah', 'muni', 'murderer', 'murph', 'murphy', 'musicians', 'muslim', 'naha', 'nam', 'nancy', 'nano', 'nashville', 'negotiating', 'neighbourhood', 'neil', 'nephew', 'netherlands', 'nights', 'nixon', 'nmemdrft8-7-01', 'nomination', 'notify', 'nov', 'nutritional', 'nw', 'nymex', 'oasis', 'object', 'objections', 'officially', 'offspring', 'olympus', 'ono', 'operational', 'opinions', 'orange', 'orbit', 'ordering', 'origins', 'ours', 'outcome', 'overthrow', 'pa', 'pacific', 'packard', 'pager', 'paradise', 'paragraph', 'parakeets', 'parisians', 'partner', 'passes', 'patients', 'pattern', 'pending', 'pennsylvania', 'pentagon', 'perfection', 'perspective', 'phoenix', 'photography', 'pie', 'pike', 'pilots', 'pipe', 'pixel', 'plate', 'players', 'pledge', 'pledged', 'poa', 'pointed', 'pointing', 'politically', 'polygamous', 'ports', 'poster', 'preferred', 'preparation', 'preparing', 'priest', 'priority', 'proceeded', 'proceedings', 'processes', 'prohibited', 'prominent', 'prophet', 'prosecution', 'proven', 'providers', 'provision', 'provisions', 'pst', 'publications', 'puct', 'pup', 'puppets', 'purposes', 'pushing', 'python', 'qadoos', 'qanooni', 'radison', 'rail', 'raising', 'ranging', 'rape', 'ray', 'react', 'recieved', 'recover', 'recovery', 'recruited', 'rediculous', 'referring', 'refuse', 'regulation', 'regulations', 'reins', 'reintroduction', 'relating', 'relationships', 'relax', 'religions', 'remaining', 'remote', 'repeated', 'reporters', 'represent', 'represents', 'reptile', 'resolution', 'respectfully', 'responded', 'retail', 'returns', 'revealed', 'revenue', 'reviewers', 'rewards', 'rgds', 'rice@enron', 'rid', 'ridiculous', 'rob', 'rockies', 'rocks', 'root', 'rosalee', 'rose', 'roughly', 'rounds', 'rs', 'rudeness', 'ruling', 'rumsfeld', 'runs', 'rural', 'saddle', 'sail', 'salt', 'sample', 'sauce', 'scare', 'scene', 'scholarship', 'screws', 'seattle', 'seconds', 'sect', 'sections', 'seed', 'sees', 'sentence', 'sex', 'shaikh', 'shame', 'shed', 'shelter', \"shi'ite\", 'shindand', 'shit', 'shots', 'shrimp', 'sights', 'silver', 'singapore', 'sky', 'slowly', 'smile', 'smuggling', 'snap', 'solid', 'solutions', 'solve', 'sommer', 'sons', 'sony', 'sooner', 'sounded', 'sovereignty', 'spacecraft', 'spawn', 'spelling', 'spicy', 'spikes', 'sponsored', 'spore', 'springs', 'stages', 'stalls', 'starbucks', 'steven', 'stood', 'strategies', 'streets', 'stretch', 'stronger', 'strongest', 'struck', 'struggle', 'submitted', 'substantiation', 'substantive', 'successfully', 'suck', 'sudden', 'suffering', 'suggests', 'sullivan', 'sunnis', 'superb', 'superior', 'supplied', 'supplier', 'supporter', 'suppose', 'surgeons', 'surveillance', 'suspicion', 'sweden', 'switched', 'switzerland', 'talented', 'tanks', 'tap', 'targeted', 'tariff', 'taub', 'tea', 'technologies', 'tel', 'tells', 'temporary', 'tempura', 'termination', 'tested', 'thai', 'thanksgiving', 'tho', 'thorough', 'thrive', 'throat', 'tied', 'tighten', 'tiny', 'tips', 'tired', 'titled', 'titles', 'tollis', 'ton', 'tracked', 'transition', 'traveler', 'travels', 'treats', 'treaty', 'trustee', 'tub', 'turbine', 'uecomm', 'ultimate', 'ultimately', 'unbelievable', 'understood', 'unemployed', 'uniform', 'uniforms', 'universal', 'unlikely', 'uno', 'unpopular', 'unsure', 'ups', 'upscale', 'ur', 'urged', 'usd', 'utah', 'utilities', 'v', 'valid', 'van', 'vanguards', 'veggies', 'venezuela', 'verify', 'vets', 'viable', 'victim', 'victims', 'videos', 'voicemail', 'votes', 'voting', 'vs', 'vulnerable', 'wa', 'waitress', 'walmart', 'walnut', 'wang', 'warehouse', 'warmer', 'warranty', 'websites', 'welcomed', 'welcoming', 'welfare', 'whereas', 'wholesale', 'widely', 'wider', 'width', 'wing', 'winning', 'wives', 'won', 'wording', 'workmanship', 'worries', 'wyndham', 'xbox', 'yahoo!', 'yale', 'younger', 'youngest', 'yours', 'youth', 'zone', '!!!!!', '(:', '+1', '---------------------------------------------------------------------', '.!', '01/19/2001', '03/02/2001', '03/08/2000', '03:20', '04/16/2001', '06/01/2001', '09', '1.00', '10/20/2000', '10/23/2000', '10/26/2000', '10th', '11:32', '11:45', '12:12', '12:30', '1307', '14th', '1560', '1580', '1584', '1594', '1774', '1980', '1983', '20.doc', '2007', '212', '270', '295870', '36', '38,000', '3:00', '3:30', '3rd', '40,000', '49', '4:00', '4th', '56', '6.00', '6.1', '61', '66', '69', '6th', '72', '74419', '78', '79', '82', '83n', '85', '95', ':-)', '=)', '?????', '___________', '`', 'a.', 'abandoning', 'absence', 'abundantly', 'accent', 'acceptance', 'accepting', 'accessible', 'accessories', 'accidentally', 'accommodation', 'accomodating', 'accumulated', 'achieved', 'acia', 'acquire', 'acquired', 'acupuncturist', 'ad', 'adapted', 'additionally', 'adequate', 'adhering', 'adjustment', 'administrator', 'adorable', 'aerocom', 'affecting', 'affluent', 'african', 'afshari', 'aftermath', 'aftershocks', 'aged', 'agencies', 'ages', 'aggravated', 'aggressive', 'agreeing', 'aim', 'airline', 'ak', 'alan', 'alarm', 'alexandria', 'ali', 'alibek', 'alike', 'allocation', 'ally', 'alto', 'amazingly', 'amend', 'amended', 'ami', 'amsterdam', 'anbar', 'ancient', 'anderson', 'annex', 'announcement', 'annual', 'antique', 'aperture', 'apparent', 'appear', 'appearance', 'appetizers', 'appointees', 'approached', 'approximate', 'ar', 'arabic', 'arafat', 'arbitration', 'arena', 'arthritis', 'articles', 'articulating', 'artistic', 'assisting', 'association', 'assurance', 'aster', 'atlantic', 'atomic', 'atrocities', 'atrophy', 'attachments', 'attain', 'attending', 'attentive', 'aunt', 'austria', 'authorization', 'authorized', 'automatic', 'automatically', 'autos', 'aviation', 'avoided', 'avoiding', 'awards', 'ayatollah', 'b&b', \"ba'athist\", 'baath', 'backweb', 'baffin', 'bailey', 'ballerina', 'ban', 'bands', 'bang', 'bangladeshi', 'bankruptcy', 'banned', 'banners', 'barcelona', 'bareback', 'barno', 'barrett', 'beak', 'beardies', 'beast', 'beating', 'beats', 'beauty', 'becuse', 'beef', 'beginner', 'behaviour', 'belong', 'belonged', 'beloved', 'beneficial', 'bengal', 'bernard', 'beschta', 'betta', 'bhutan', 'bienvenue', 'biloxi', 'bitmap', 'blackline', 'blacklined', 'blank', 'bleeding', 'blended', 'blessings', 'blew', 'blowing', 'bn', 'bna', 'boasts', 'boiled', 'bojinka', 'bomb', 'boot', 'bottle', 'boxes', 'brave', 'bravery', 'breast', 'breeze', 'breyer', 'bridget', 'brigades', 'briggs', 'broker', 'bu', 'buchanan', 'budgie', 'burger', 'burn', 'burning', 'butt', 'butterfly', 'cakes', 'canal', 'canned', 'canon', 'captain', 'cashout', 'caucasian', 'caucasians', 'censor', 'centres', 'chandeliers', 'channel', 'characters', 'chase', 'chatting', 'checkerspot', 'chefs', 'cheryl', 'chew', 'chinatown', 'chittagong', 'choosing', 'chosen', 'christianity', 'cinema', 'circling', 'citizenship', 'civilian', 'clearer', 'clerics', 'clock', 'cluster', 'co2', 'coal', 'cole', 'collapse', 'collect', 'colorado', 'combined', 'comfortably', 'commanders', 'committed', 'communicate', 'compare', 'comparing', 'compassion', 'compatible', 'compel', 'competing', 'completing', 'compression', 'concentration', 'concert', 'concur', 'condemn', 'confusion', 'congregation', 'connected', 'cons', 'consistently', 'console', 'constant', 'consulting', 'consumers', 'consumption', 'contain', 'containing', 'contest', 'context', 'continuing', 'contra', 'contracted', 'contractor', 'contractors', 'contradict', 'contributions', 'controllers', 'controversial', 'convention', 'cook', 'cop', 'copying', 'corn', 'correction', 'corrupt', 'costly', 'counseling', 'courteous', 'courtesy', 'courtney', 'cousin', 'covering', 'cp', 'cpuc', 'craving', 'crawford', 'crazy', 'creates', 'creativity', 'crickets', 'croatia', 'cropdusters', 'crossing', 'crowd', 'crowded', 'cry', 'cuisine', 'cullen', 'cultures', 'cured', 'cures', 'cursor', 'curtains', 'customize', 'customs', 'd.c.', 'damp', 'dancers', 'daniels', 'darla', 'dartmouth', 'daschle', 'daycare', 'deadline', 'debtors', 'declared', 'decrease', 'deed', 'deemed', 'defeated', 'defeats', 'definately', 'define', 'defining', 'definition', 'degu', 'deleted', 'delicate', 'delight', 'delighted', 'dempsey', 'denial', 'dennis', 'deposition', 'deputy', 'deregulation', 'descriptions', 'designated', 'desire', 'desperate', 'destinations', 'detained', 'deteriorated', 'devastating', 'diagnosed', 'diarrhea', 'differential', 'difficulties', 'disappointment', 'disasters', 'discover', 'discrepancy', 'dismissed', 'displaced', 'dispute', 'disregard', 'disrupt', 'distance', 'distinguished', 'diversity', 'doc', 'domain', 'dominos', 'donate', 'dongle', 'doubts', 'downstream', 'doyon', 'dpr', 'drafts', 'drag', 'drama', 'drawn', 'dresser', 'drew', 'driven', 'dslr', 'duct', 'dude', 'dulaim', 'duration', 'dykman', 'dysfunctional', 'e.', 'eagle', 'earthquake', 'earthworms', 'ease', 'easter', 'eco', 'ecology', 'ecommerce', 'ecosystems', 'ecp', 'edge', 'eeftl', 'ees', 'effeminate', 'efficiency', 'efficiently', 'ego', 'eligible', 'eliminated', 'elliott', 'embarrassment', 'embassies', 'embedded', 'enchiladas', 'ending', 'ends', 'engagement', 'engineer', 'enjoyment', 'enpower', 'entourage', 'envoy', 'epa', 'epstein', 'era', 'ernie', 'escaping', 'espeak', 'estimates', 'et', 'eu', 'evaluate', 'everland', 'evolution', 'examine', 'exceptional', 'exchange', 'excuse', 'executing', 'exhibit', 'existence', 'exotic', 'explaining', 'explains', 'explode', 'extradited', 'extradition', 'fabric', 'fabrications', 'faces', 'factors', 'failing', 'faithful', 'fallout', 'fallujan', 'fans', 'farce', 'fare', 'farms', 'fascinating', 'fashioned', 'fe', 'feared', 'feasible', 'feathered', 'feb.', 'fed', 'fever', 'fields', 'fifteen', 'filling', 'filmed', 'financed', 'finances', 'financially', 'financing', 'fired', 'fisheries', 'fixing', 'flds', 'fleeing', 'flew', 'flights', 'flood', 'flooring', 'flowed', 'fluid', 'fluids', 'fold', 'forbidding', 'forecast', 'foreigner', 'forster', 'founded', 'fountain', 'fps', 'francis', 'fred', 'freese', 'fri', 'fridays', 'frontier', 'frustrating', 'fucking', 'functional', 'functionality', 'functions', 'fundamentalists', 'fungus', 'furnace', 'fuss', 'galleries', 'gaming', 'gaps', 'garcia', 'gastroenteritis', 'gathering', 'gen.', 'generate', 'generated', 'generating', 'generations', 'generic', 'gently', 'gifts', 'giraffe', 'glen', 'gmat', 'googlenut', 'gop', 'governmental', 'gown', 'grades', 'grandmother', 'graphic', 'greatest', 'greendale', 'grey', 'grid', 'grinder', 'grocery', 'grown', 'growth', 'gtee', \"gu'ud\", 'guaranty', 'guardsmen', 'guilds', 'guitar', 'habits', 'halliburton', 'hamilton', 'hammer', 'hamsters', 'handful', 'hardest', 'harm', 'harness', 'harvard', 'hated', 'hates', 'hatred', 'hats', 'hav', 'hay', 'healthier', 'hearts', 'heels', 'hibernation', 'highlighting', 'hijackers', 'hill', 'hilton', 'hints', 'hiring', 'hiss', 'hissed', 'hmmm', 'hoecker', 'holga', 'homeless', 'homemade', 'honor', 'hood', 'hop', 'hoped', 'horror', 'hotmail', 'hu', 'hughes', 'hugs', 'huh', 'hull', 'humble', 'hunt', 'hurricane', 'hutch', 'iaea', 'ibm', 'identical', 'identified', 'identifies', 'idiots', 'ignorant', 'il', 'imaginary', 'imagination', 'impeccable', 'impenetrable', 'implementing', 'implicated', 'impress', 'impressionist', 'impressive', 'improved', 'improving', 'inability', 'inc', 'incentive', 'incomplete', 'incorporates', 'incubation', 'indicating', 'indication', 'individually', 'indo', 'industrial', 'inevitable', 'inexpensive', 'infections', 'infinity', 'infrastructure', 'injustice', 'innovative', 'inoperable', 'input', 'inquired', 'ins', 'insects', 'insert', 'inspector', 'insult', 'intercepted', 'intercompany', 'interfere', 'interviewed', 'introduce', 'intuitive', 'inversion', 'investigating', 'invoices', 'invoicing', 'ipn', 'iris', 'irs', 'islam', 'ismat', 'israelis', 'itinerary', 'j', 'j.', 'jamaica', 'janet', 'jared', 'jazz', 'jeans', 'jemison', 'jeopardy', 'jersey', 'jihadis', 'joining', 'jolla', 'journalist', 'journey', 'jr.', 'juan', 'judging', 'judicial', 'juggernaut', 'jumping', 'justification', 'kaminski', 'kaplan', 'kaufman', 'keen', 'kent', 'kick', 'kilometres', 'kindle', 'knock', 'kowalke', 'l.', 'la.', 'labels', 'labor', 'laboratory', 'lacked', 'lamp', 'larry', 'lasting', 'lasts', 'laugh', 'launcher', 'layers', 'leach', 'leaves', 'lemelpe@nu.com', 'length', 'lesion', 'lettuce', 'leverage', 'libya', 'license', 'lift', 'lions', 'liquidweb.com', 'loc', 'lodge', 'logo', 'lone', 'looming', 'lora', 'lottery', 'lou', 'loud', 'louis', 'lounge', 'lover', 'lt.', 'lunar', 'luv', 'lying', 'm.', 'm.nordstrom@pecorp.com', 'machines', 'madrid', 'magnitude', 'malaysia', 'malaysian', 'mankind', 'manned', 'mantra', 'mare', 'marks', 'mars', 'marshall', 'matching', 'mayor', 'merchant', 'mere', 'meter', 'methods', 'meticulous', 'michele', 'midst', 'midterms', 'mild', 'militants', 'militias', 'mines', 'ministry', 'mkm', 'mmbtu', 'modeling', 'mohawk', 'moldovan', 'monopoly', 'moors', 'mop', 'moro', 'moslems', 'mosul', 'mothers', 'motive', 'mounting', 'moves', 'mtm', 'murdered', 'murfreesboro', 'murillo', 'musical', 'mystery', 'nadu', 'narrow', 'narrowed', 'nasim', 'native', 'nazi', 'neal', 'nearby', 'nearest', 'neatly', 'needing', 'neighboring', 'nelson', 'nepco', 'nerve', 'neurological', 'newborn', 'newer', 'newspapers', 'newsweek', 'niagara', 'nicer', 'nicest', 'nicki', 'nikon', 'noel', 'non-commercial', 'nope', 'norway', 'norwegian', 'nose', 'notepad', 'notional', 'nowhere', 'obligated', 'observed', 'observers', 'obtained', 'occasion', 'occasionally', 'ocean', 'odd', 'offended', 'olds', 'ole', 'onboard', 'opera', 'opposite', 'optionality', 'oracle', 'oregon', 'organize', 'outlets', 'over-rated', 'overcharges', 'overcooked', 'overflow', 'owe', 'ownership', 'p.s.', 'packages', 'packed', 'pact', 'pairs', 'pan', 'pants', 'parliament', 'partial', 'participating', 'passion', 'pasted', 'pastor', 'pasture', 'patricia', 'payable', 'payers', 'payments', 'peak', 'pedicure', 'peeing', 'penalty', 'penines', 'penman', 'penn', 'perceived', 'percell', 'perform', 'performing', 'persistent', 'pewter', 'pge', 'phet', 'philippine', 'phoned', 'phuket', 'phyllis', 'picket', 'pin', 'pinky', 'pioneer', 'pleasantly', 'politicians', 'poorly', 'popularity', 'popup', 'pork', 'portugal', 'pose', 'post-war', 'posters', 'pot', 'potato', 'potentially', 'potty', 'pour', 'practical', 'pray', 'prc', 'pre', 'pre-meeting', 'pre-owned', 'predict', 'predominantly', 'pregnant', 'preorder', 'preparedness', 'preserve', 'prevented', 'pricey', 'pride', 'principal', 'priorities', 'prisoners', 'proceeding', 'processor', 'professionally', 'promote', 'promoted', 'propaganda', 'propane', 'properties', 'prosecutors', 'prospect', 'protein', 'protocol', 'provider', 'publication', 'puerto', 'pulling', 'pump', 'purple', \"qa'ida\", 'quarter', 'queen', 'queso', 'questioned', 'quietly', 'quiz', 'quoting', 'r.', 'rachels', 'racism', 'radicals', 'radio', 'rally', 'ramadi', 'rang', 'ranger', 'rated', 'reaching', 'reassure', 'reccomend', 'recessive', 'reconciling', 'reconsider', 'recording', 'reflecting', 'refunds', 'refusing', 'regulated', 'reimbursed', 'rejection', 'relate', 'relation', 'relative', 'relatives', 'relaxing', 'releasing', 'relying', 'remainder', 'remarks', 'remedies', 'remembered', 'remembers', 'remind', 'removal', 'rental', 'repaired', 'repairs', 'replied', 'representation', 'representatives', 'represented', 'representing', 'repressed', 'republicans', 'researchers', 'researching', 'reserved', 'resolutions', 'resource', 'restored', 'rev.', 'reversal', 'reviewed', 'reviewer', 'ri', 'rinsed', 'rip', 'roadhouse', 'roadside', 'robbie', 'roberts', 'rocket', 'rodents', 'rogers', 'rom', 'romantic', 'roms', 'ronald', 'ronn', 'roosters', 'rulers', 'rumor', 'russell', 'russians', 'sacramento', 'sad', 'sahaf', 'salads', 'salesman', 'sampling', 'sancho', 'sand', 'sarah', 'saratoga', 'sat.', 'satanic', 'satellite', 'satisfaction', 'scammers', 'scent', 'schizophrenic', 'schott', 'scientist', 'scientists', 'screw', 'seal', 'sealed', \"sear's\", 'secondly', 'secretive', 'seldom', 'senators', 'sends', 'sensor', 'seoul', 'separately', 'seperate', 'serves', 'setoff', 'shackleton@ect', 'shadow', 'shares', 'sharing', 'sharp', 'sheds', 'shepherd', 'sheriff', 'shipment', 'shippers', 'shoes', 'sicily', 'signal', 'silk', 'sinh', 'sinhalese', 'situations', 'skies', 'skimmer', 'skip', 'sleeping', 'slept', 'smallest', 'smell', 'smells', 'smoking', 'smoothly', 'smutney', 'snack', 'soaking', 'soda', 'soldier', 'sole', 'solely', 'solved', 'songs', 'sooners', 'sorts', 'souls', 'soup', 'sour', 'soviet', 'spacious', 'spare', 'spawning', 'spayed', 'speaker', 'specialists', 'specials', 'specifications', 'specified', 'spectacular', 'spice', 'spin', 'spinal', 'spine', 'spoon', 'spotted', 'squadrons', 'stabbed', 'stabilization', 'stadium', 'stairs', 'stanford', 'stark', 'statue', 'stepping', 'sticks', 'stipulation', 'stolen', 'stomach', 'stops', 'stout', 'strait', 'strange', 'stranger', 'strategic', 'streamside', 'stress', 'stressed', 'strictly', 'submarine', 'submarines', 'submit', 'subpoenas', 'subtle', 'succeeded', 'sucks', 'suddenly', 'suffered', 'sufficient', 'suitable', 'sunny', 'superfund', 'supply', 'supported', 'supports', 'surge', 'surplus', 'survivors', 'suspicious', 'suv', 'swg', 'swing', 'sympathizers', 'symptoms', 't.', 't3i', 'tables', 'tactic', 'tactics', 'talent', 'tasting', 'tasty', 'tear', 'technically', 'technician', 'technique', 'techniques', 'technological', 'teething', 'tehran', 'television', 'temples', 'tennessee', 'tension', 'territorial', 'territories', 'texts', 'thanx', 'theater', 'therapist', 'thereby', 'thin', 'thirty', 'thread', 'thx', 'thy', 'ties', 'tints', 'titman', 'tna', 'todd', 'toe', 'tolerable', 'tolerate', 'tools', 'tots', 'tourism', 'tracking', 'tractor', 'trades', 'tradition', 'trainer', 'transferred', 'transmit', 'trap', 'trapped', 'trauma', 'traveller', 'treating', 'tremendous', 'tricks', 'tricky', 'trigger', 'tripped', 'trips', 'tropez', 'tropical', 'trusted', 'tumor', 'tuna', 'turning', 'twisted', 'u.k', 'ugh', 'ugly', 'uh', 'uncle', 'undergraduate', 'undermining', 'undertake', 'uneven', 'unexpected', 'unhappy', 'uniquely', 'unitary', 'unlike', 'unloading', 'unnamed', 'unnecessary', 'untalented', 'upcoming', 'upgrade', 'upper', 'upstairs', 'urge', 'ursula', 'usage', 'usb', 'useless', 'v02', 'valuable', 'valuation', 'valuing', 'varanasi', 'vc', 'vegan', 'vegetable', 'vegetarian', 'versions', 'vestry', 'vests', 'veto', 'viewpoints', 'village', 'vintage', 'visual', 'void', 'volatilities', 'volume', 'vomit', 'voters', 'wakes', 'walks', 'walls', 'wangs', 'ward', 'warrant', 'wary', 'wasted', 'wayne', 'weak', 'weaponize', 'wed.', 'wheels', 'whereabouts', 'whilst', 'whipple', 'wii', 'wildwood', 'willingly', 'wind', 'winner', 'wisconsin', 'wishes', 'withdraw', 'wobblers', 'workshop', 'workshops', 'worthwhile', 'wounded', 'wounds', 'wrap', 'writes', 'wyoming', 'x3-9890', 'x33907', 'x940', 'xf', 'xiii', 'xmas', 'yang', 'ye', 'yea', 'yelled', 'yelling', 'yep', 'yheggy', 'yorkshire', 'yummy', 'zaman', 'zinc', 'zoo', 'zoom', '!!!!!!!!!!', '!!!?', '!.', \"#'s\", '))', '****', '*****', '**********', '******************************************************************', '+++', '+++++', '+44', ',?', '-----', '----------------------------------------------------------------------', '-----------------------------------------------------------------------', '---------------------------------------------------------------------------', '---->===}*{===<----', '-2-f.doc', '-final.doc', '-stip', '..........', '....................', '0000108806', '01/24/2001', '01/25/2001', '01:14', '01:39:56', '01:58', '02-05-02.doc', '02/27/2001', '03', '03/09/2000', '03/21/2001', '03:48', '03:58', '04:03', '04:17', '04:28', '04:37', '05', '05/01/2001', '05/03/2001', '05/17/99', '05/30/2001', '05:37', '07/14/2000', '07:24', '08/03/2000', '09/15/99', '09:14', '09:45', '1,000', '1-800-991-9019', '101', '104', '10:25', '10:34', '10:56', '11-20-2000', '11.5', '11/08/2000', '11/27/2000', '11/7/08', '113', '11608', '1179', '11:07', '11:35', '12/26/2000', '129', '12th', '13011', '13th', '143', '15,000', '1504', '1530', '1575', \"1590's\", \"16's\", '16.379', '1600', '17h', '1920s', '1937', '1960s', '1982', '1990', '1990s', '1996', '1:30', '2,000', '2.975', '2018', '202.456.1111', '202.456.1414', '202.456.2461', '20s', '21,000', '24,000', '268', '26th', '27th', '281-435-0295', '281-443-3744', '28th', '3,202.61', '3/8/00', '3143c', '345-3436', '360', '37', '4-12', '4.7', '415', '415.621.8317', '415.782.7822', '43', '47,500', '4:50', '4_28_00.doc', '4g', '5/18', '50,000', '505-625-8031', '51', '512', '54', '567.77', '6,000', '6.2.1', \"60's\", '62', '680', '6871082#', '70s', '713-654-0365', '713-654-1281', '713-853-1696', '713-853-3098', '73', '7484', '759933', '76', \"80's\", '800-553-3119', '800.713.8600', '80435', '814014', '850', '87', '88', '888.916.7184', '90s', '92', '9221', '969', '979', '9th', ';-)', '>----------------------------------------------------------------------------|', '?!?', 'a.k.a', 'abandoned', 'abbudi', 'abomination', 'abramoff', 'abruptly', 'absorbing', 'absorption', 'absurd', 'abu', 'abundance', 'abused', 'academic', 'academy', 'accommodations', 'accompanied', 'accomplishment', 'accuses', 'acknowledged', 'acquisition', 'acrylic', 'actively', 'addicts', 'adequately', 'admin', 'adn', 'adopt', 'adriana', 'adsl', 'advancement', 'advances', 'advertised', 'advertising', 'advisers', 'advises', 'advisor', 'advisors', 'advisory', 'aerial', 'aeron', 'affection', 'affects', 'affirm', 'afore', 'afterward', 'ag', 'aggressively', 'agreeable', 'aids', 'ailment', 'aimed', 'aims', 'airfare', 'airports', 'ak47s', 'aka', 'akin', 'alarms', 'alaska', 'alchemical', 'alcoholism', 'aldo', 'alert', 'alerted', 'algeria', 'allocate', 'alma', 'alot', 'alterations', 'alternates', 'altitude', 'altogether', 'aluminum', 'amazed', 'amazes', 'amelia', 'americas', 'amerithrax', 'ammonia', 'amnesty', 'amongst', 'amrullah', 'amusement', 'amusing', 'amy', 'andre', 'angel', 'angie', 'anglo', 'animated', 'anna', 'annoyed', 'anonymous', 'anti-ship', 'anticipate', 'anticipated', 'ants', 'anwar', 'aortic', 'appalled', 'applicant', 'appointments', 'apprehension', 'apprehensive', 'approaches', 'appropriately', 'appropriating', 'appropriators', 'appy', 'apr', 'aquarius', 'arabian', 'arabs', 'archive', 'arco', 'argumentative', 'arguments', 'ariel', 'aries', 'arising', 'armatho', 'armored', 'arrangement', 'arrangements', 'arranging', 'arrayed', 'arrogance', 'arrogant', 'artillery', 'artwork', 'aryan', 'asansol', 'ashcroft', 'aspen', 'ass', 'assess', 'assignment', 'assumed', 'assumptions', 'assure', 'astounding', 'at&t', 'atef', 'attendant', 'attn.', 'attraction', 'attractive', 'attributed', 'atty', 'audio', 'audiotape', 'autonomy', 'avenue', 'awaiting', 'awhile', 'awol', 'aye', 'b.', 'b2b', 'baathist', 'baathists', 'backing', 'backs', 'backside', 'backup', 'bacteriologist', 'bagels', 'bagh', 'baked', 'bakery', 'balasingham', 'ballet', 'ballroom', 'balls', 'balochi', 'balochistan', 'baltimore', 'bankruptcies', 'banner', 'barbecue', 'bare', 'barrel', 'barren', 'bart', 'bases', 'bashers', 'batawi', 'batch', 'battery', 'baudelaire', 'bazar', 'bbc', 'beaches', 'bean', 'beautifully', 'beaver', 'bechtel', 'becky', 'bedlam', 'beds', 'bees', 'befuddled', 'beg', 'begins', 'behold', 'beijing', 'belarus', 'beliefs', 'bella', 'belonging', 'belongs', 'bench', 'beneath', 'bent', 'berkeley', 'berlin', 'berry', 'beside', 'beth', 'beutel', 'beverage', 'bible', 'bidders', 'billy', 'biochemist', 'biodefense', 'biologist', 'bioweaponeer', 'bj', 'blackmail', 'blackworms', 'blames', 'blaming', 'blend', 'blooded', 'bloom', 'blower', 'bluff', 'blurred', 'bmc...@patriot.net', 'bmw', 'boards', 'boi', 'bolivia', 'bombast', 'bomber', 'bombers', 'bones', 'booth', 'bore', 'bored', 'boring', 'bosnian', 'bottles', 'boulder', 'boulevard', 'bound', 'bowen', 'bp', 'bpd', 'brack', 'brad', 'brainwash', 'brakes', 'brandee', 'bravely', 'brawler', 'brazilian', 'breakfasts', 'breathing', 'breeder', 'brenner', 'brent', 'brewery', 'brick', 'brickell', 'bridal', 'bridge', 'briefing', 'brigade', 'broadband', 'brokerage', 'brothers', 'bruce', 'brunch', 'bud', 'buddy', 'budge', 'budgets', 'budgies', 'bug', 'builders', 'builds', 'buildup', 'buis', 'bull', 'bulletin', 'burden', 'burgers', 'burner', 'burnt', 'burrows', 'bust', 'busybodies', 'buyer', 'buyers', 'cabins', 'caem', 'cafeteria', 'cal', 'calculated', 'calculating', 'calcutta', 'calendars', 'calender', 'calf', 'californians', 'callum', 'campaigning', 'campenni', 'camper', 'camping', 'canceling', 'cancelled', 'capitol', 'capricorn', 'capsules', 'cared', 'carl', 'carlos', 'caroline', 'carribbean', 'carrier', 'carriers', 'carter', 'cartoon', 'cartoons', 'cass', 'casting', 'castling', 'casualty', 'catastrophic', 'categorically', 'categories', 'cater', 'cattle', 'cautious', 'cave', 'cavern', 'cay', 'cdg', 'cease', 'censored', 'centimetre', 'centralize', 'centuries', 'certified', 'chains', 'challenge', 'chaman', 'chanley', 'channels', 'chapel', 'character', 'characterized', 'charlotte', 'charm', 'chasing', 'chavez', 'cheaply', 'chechnya', 'checkout', 'cheques', 'cherokee', 'cheveux', 'chevron', 'chiara', 'chick', 'childbirth', 'childhood', 'chill', 'chlorination', 'chnages', 'choate', 'choppy', 'chores', 'chromatograph', 'chs', 'chumley', 'cigarette', 'cited', 'citizen', 'clarify', 'clark', 'clashes', 'classic', 'classified', 'claws', 'clayton', 'cleaners', 'clergy', 'clerk', 'climber', 'cloud', 'clue', 'coach', 'coastal', 'coat', 'cockatiel', 'cocktail', 'cod', 'coding', 'cognitively', 'coil', 'collaborate', 'collage', 'collages', 'colleges', 'colonization', 'colony', 'colorful', 'columbine', 'comb', 'combo', 'comedians', 'comforting', 'commands', 'communicated', 'communicative', 'compaq.com', 'complain', 'completly', 'complexes', 'compliance', 'complicated', 'complications', 'compliments', 'components', 'composition', 'compounded', 'comprised', 'con', 'concentrating', 'conciliatory', 'conclude', 'concluding', 'conclusions', 'condominium', 'conducted', 'conducting', 'cone', 'conferenced', 'confidante', 'confined', 'confiscated', 'conflagration', 'conflicting', 'connecticut', 'conscience', 'conscientious', 'consensus', 'consistency', 'consortium', 'conspiracy', 'constitute', 'constitutional', 'constraints', 'consulates', 'contains', 'contemplated', 'continental', 'continually', 'contractual', 'contrast', 'contributed', 'contribution', 'controlled', 'controlling', 'controls', 'convenience', 'convicted', 'convictions', 'convinced', 'coogan', 'cookies', 'cooperating', 'coordinated', 'coordination', 'copied', 'copyright', 'corey', 'cork', 'corporations', 'cosmic', 'counterparties', 'counters', 'countrymen', 'coupled', 'covert', 'cowpland', 'cows', 'cox', 'cpi', 'crack', 'crackdown', 'cracked', 'crafter', 'crashes', 'crayola', 'creatures', 'credence', 'creditors', 'creekside', 'crest', 'crews', 'criteria', 'criticism', 'criticized', 'crooks', 'crowds', 'crowleyan', 'crushed', 'crust', 'csis', 'cult', 'cup', 'curious', 'currents', 'curtain', 'curve', 'custody', 'cycling', 'cynical', 'czech', 'd7000', 'da', 'damaged', 'damaging', 'damascus', 'dances', 'danelia', 'dangers', 'danny_jones%enron@eott.com', 'darker', 'darkness', 'darren', 'database', 'databases', 'datamanager', 'dawa', 'debaathification', 'debts', 'dec', 'deciding', 'deck', 'declaring', 'decook', 'decorated', 'decoud', 'dedicated', 'dedication', 'dee', 'deer', 'def', 'defended', 'definitions', 'delayed', 'deli', 'deliberate', 'deliveries', 'delivering', 'demands', 'democrat', 'demons', 'demonstrates', 'demonstration', 'denis', 'denote', 'denying', 'departments', 'dept', 'depth', 'derivative', 'derived', 'derrick', 'designers', 'desirable', 'despair', 'desperately', 'desserts', 'destiny', 'detect', 'detected', 'detective', 'detector', 'determination', 'develops', 'devices', 'devon', 'dg', 'dhaka', 'dharmad...@gmail.com', 'di', 'diagnose', 'diagnostic', 'diapers', 'dietrich', 'digest', 'dilemmas', 'dilute', 'dime', 'dined', 'dinners', 'diplomat', 'directive', 'directorate', 'dirtier', 'disappear', 'disappearance', 'disc', 'discharge', 'disclosed', 'discounted', 'discouraging', 'discretion', 'discussing', 'disenfranchised', 'disgrace', 'disgusting', 'disintegration', 'dislike', 'dismissing', 'disperse', 'dispersing', 'disposal', 'dissatisfied', 'dissemination', 'dissolved', 'distances', 'distinguish', 'distinguishing', 'diversion', 'divorce', 'docking', 'documented', 'dominance', 'donald', 'donor', 'dope', 'dorsey', 'dove', 'downhill', 'downside', 'dozens', 'dramatically', 'drawer', 'drawers', 'dreamed', 'dreams', 'drills', 'drivers', 'drool', 'drops', 'drunk', 'dryer', 'drying', 'ds', 'du', 'dual', 'dublin', 'dudley', 'dust', 'dusters', 'duties', 'dvd', 'dying', 'e-mailed', 'e-mails', 'ear', 'earliest', 'eater', 'eaters', 'ebay', 'ecological', 'economical', 'economically', 'economics', 'edges', 'edible', 'edinburgh', 'editor', 'edmund', 'edt', 'educated', 'edwin', 'eelam', 'ei', 'eighteen', 'electronically', 'electrostatic', 'elegant', 'element', 'eliminating', 'elizabeth', 'embarrassed', 'embarrassing', 'embassy', 'emerged', 'emergencies', 'emery', 'emit', 'emma', 'empathy', 'employ', 'employee', 'empowerment', 'enables', 'enabling', 'enclosed', 'endanger', 'endeavor', 'endless', 'endo', 'enemies', 'engaged', 'engineers', 'enhanced', 'enquirer', 'enrolled', 'ensured', 'ensuring', 'enterprise', 'enthusiasm', 'enthusiastic', 'entrance', 'environmentally', 'enw_gcp', 'epi', 'episode', 'epithet', 'erin', 'erratic', 'errors', 'esp.', 'essential', 'establishing', 'eta_revision0307.doc', 'ethnically', 'etiquette', 'ets', 'eurasia', 'evacuate', 'evacuated', 'evaluations', 'evangelicals', 'evenings', 'everett', 'evidently', 'ex-members', 'examination', 'examining', 'excellence', 'excepted', 'exceptionally', 'exclusion', 'excuses', 'exercise', 'exit', 'expanded', 'expectation', 'expelling', 'experiencing', 'expiration', 'expire', 'exploit', 'exploited', 'exploring', 'explosive', 'exponentially', 'extensions', 'extinction', 'extinctions', 'extracurricular', 'f.o.b.', 'faction', 'factory', 'fagan', 'fahrenheit', 'fail', 'faithfully', 'fallibility', 'fame', 'fanatic', 'fantasy', 'farm', 'farmer', 'fatal', 'favorites', 'favourable', 'favoured', 'fears', 'feather', 'featured', 'features', 'fedayeen', 'federation', 'feeder', 'feeds', 'fei', 'feild', 'ferrari', 'festival', 'festivals', 'fewer', 'fhs', 'fi', 'fiction', 'fights', 'filtered', 'finalize', 'finch', 'findings', 'finest', 'fingered', 'finland', 'fins', 'fires', 'firing', 'firstly', 'fishing', 'fishman', 'fist', 'fits', 'flank', 'flatbread', 'flatfish', 'flats', 'flaw', 'flawless', 'flee', 'flesh', 'fleshing', 'flexible', 'flicker', 'flip', 'flipped', 'flipping', 'flooded', 'flopping', 'flops', 'florence', 'flower', 'flown', 'flyer', 'flyers', 'fo', 'focuses', 'focusing', 'foie', 'folded', 'followers', 'forbid', 'forecasts', 'foresee', 'forgiveness', 'formidable', 'forster@enron', 'fort', 'forthcoming', 'fortunate', 'forums', 'fossum', 'foster', 'fostering', 'founders', 'foz', 'fraiser', 'frame', 'fran', 'franklin', 'frankly', 'fray', 'freely', 'freight', 'freighter', 'frequency', 'fri.', 'friendliness', 'friendship', 'frighten', 'frightening', 'fruits', 'fuck', 'fugitives', 'fuji', 'fulfilled', 'fulfilling', 'functioning', 'furnishings', 'furthermore', 'fusion', 'fusions', 'fy04', 'g.', 'gaining', 'gall', 'galleryfurniture.com', 'gallup', 'gambit', 'gambling', 'gapinski', 'garibaldi', 'gather', 'gaza', 'gcp_london', 'gearbox', 'geared', 'gel', 'gelceuticals', 'gemini', 'generals', 'generates', 'generous', 'genes', 'genesis', 'genitals', 'genocide', 'gentleman', 'gentlemen', 'geographical', 'georgia', 'gi', 'giant', 'giants', 'gibson', 'giggled', 'ginger', 'giovanni', 'giovannini', 'gis', 'glandular', 'glaring', 'glasses', 'glowing', 'gm', 'gmt', 'gold', 'goldmann', 'golf', 'goodness', 'googled', 'gore', 'gouging', 'gov.', 'governorates', 'grabbed', 'grabbing', 'grace', 'gracious', 'grandchildren', 'grandparents', 'grandson', 'granting', 'graphics', 'gras', 'grave', 'gravity', 'gravy', 'grease', 'greenhouse', 'greet', 'greeter', 'greeting', 'grenade', 'grille', 'grim', 'gripped', 'guacamole', 'guarantees', 'guaranties', 'guardian', 'guerilla', 'guerra', 'gullible', 'guthrie', 'gyanendra', 'habitation', 'hai', 'halfway', 'hamid', 'hangar', 'happily', 'harass', 'harbor', 'hardliners', 'hardly', 'harmless', 'harmony', 'harshly', 'hartpury', 'hasina', 'hauled', 'hauling', 'hawijah', 'hazim', 'hbs', 'hcc', 'headlines', 'healthcare', 'hectic', 'hedge', 'hedging', 'heightened', 'heights', 'helicopter', 'herd', 'hereby', 'hero', 'herpes', 'hers', 'hezbollah', 'hibernate', 'hickory', 'highlighted', 'highway', 'hills', 'hint', 'hired', 'hirier', 'hisses', 'hissing', 'historians', 'historic', 'historically', 'hitch', 'hitting', 'hizbullah', 'hmmmmmm', 'hoa', 'hobby', 'holes', 'holidaying', 'holocaust', 'homosexual', 'hoof', 'hookers', 'hookless', 'hormuz', 'horrific', 'horton', 'hosanna', 'hose', 'hospitable', 'hostess', 'hostile', 'hourly', 'housed', 'howrah', 'http://www.euci.com/pdf/trans_expn.pdf', 'huber', 'humming', 'hummus', 'hunter', 'hunting', 'hurling', 'husbands', 'huskers', 'hybrid', 'hypocrisy', 'hysterical', 'hz', 'i/c', 'icdc', 'iceland', 'icing', 'ideal', 'identification', 'identifying', 'ideology', 'ids', 'ie', 'iep', 'ignorance', 'ignoring', 'igts', 'ihop', 'imagined', 'immensely', 'immigrate', 'imo', 'implications', 'implicit', 'importance', 'imported', 'impose', 'impression', 'imprisonment', 'inappropriate', 'inciting', 'incomes', 'incompetence', 'incompetent', 'incorrect', 'incorrectly', 'incubating', 'incurred', 'indefinite', 'indians', 'indifferent', 'indivero', 'indoor', 'indoors', 'ineos', 'infantry', 'infected', 'inferior', 'influential', 'ingredient', 'ingrown', 'initials', 'innkeeper', 'innovation', 'inquiring', 'inquiry', 'insecure', 'inserts', 'insight', 'insist', 'instability', 'install', 'instigated', 'institutions', 'instructed', 'intellectuals', 'intent', 'intention', 'intentions', 'interface', 'intermediary', 'intermediate', 'intimacy', 'intolerance', 'intrepid', 'intrigue', 'introduces', 'introductions', 'invasive', 'invention', 'invested', 'investigate', 'investigations', 'investigative', 'investigators', 'investors', 'inviting', 'invoiced', 'invoked', 'involves', 'ips', 'irony', 'islami', 'ismail', 'iss', 'ivan', 'j.doc', 'jail', 'jamming', 'jan.', 'janell', 'jaw', 'jaws', 'jeju', 'jennifer', 'jeremy', 'jerks', 'jet', 'ji', 'jimmy', 'jintao', 'jitsu', 'jiu', 'johnette', 'jointly', 'jonathan', 'jorge', 'journal', 'joystick', 'jpy', 'jr', 'judgment', 'judy', 'juicy', 'julie', 'jumps', 'junior', 'junk', 'junkie', 'jupiter', 'jurisdiction', 'jurisdictions', 'justifying', 'kadhim', 'kansas', 'kapor', 'karen', 'karl', 'karla', 'karma', 'karol', 'katie', 'kb', 'kelly', 'keys', 'kg', 'khan@transredes', 'kicked', 'kidding', 'kilinochchi', 'killie', 'killies', 'killifish', 'kilometers', 'kindly', 'kindness', 'kinect', 'kingdom', 'kingel', 'kingston', 'kline', 'knee', 'knights', 'koran', 'kriste', 'kueck', 'kurdish', 'kurds', 'kut', 'kyle.jones@radianz.com', 'l.l.c', 'label', 'labs', 'lace', 'lamb', 'landlord', 'lane', 'lankan', 'laptops', 'lara', 'lately', 'launchers', 'lavorato', 'lawless', 'lawmakers', 'lax', 'laying', 'lazy', 'lb', 'ld2d-#69334-1.doc', 'ld2d-#69336-1.xls', 'ld2d-#69377-1.xls', 'ld2d-#69381-1.doc', 'ld2d-#69396-1.doc', 'ld2d-#69397-1.doc', 'leaf', 'leaks', 'lean', 'learnt', 'leather', 'lebanon', 'legacy', 'legally', 'legislature', 'legit', 'leisure', 'leite', 'lengthy', 'lens', 'leo', 'lethal', 'lets', 'levitt', 'lewis', 'lewiston', 'lexus', 'liabilities', 'liability', 'liars', 'liau', 'liberals', 'liberties', 'libra', 'licking', 'lifeboat', 'lifestyle', 'limbs', 'limits', 'limp', 'lindh', 'lined', 'linens', 'ling', 'liquefied', 'liquidations', 'liquidweb', 'listing', 'literature', 'lithograph', 'liver', 'll', 'loading', 'loads', 'locked', 'locker', 'locks', 'lodging', 'login', 'longevity', 'lookout', 'loot', 'looting', 'loretta', 'losses', 'lotte', 'lotus', 'louise', 'lowest', 'loyal', 'ltd.', 'luan', 'lube', 'lucy', 'luncheon', 'lynch', 'lynn', 'lysa', 'm.d.', 'ma', 'mabruk', 'mach', 'magical', 'magnificent', 'maids', 'mailed', 'mails', 'mailto:amy.cornell@compaq.com', 'mailto:rosario.gonzales@compaq.com', 'maine', 'maintains', 'maitra', 'makkai', 'malls', 'managing', 'maniac', 'manifest', 'manipulate', 'manipur', 'manliness', 'manne', 'manually', 'manufacture', 'manufactured', 'manufacturing', 'marcelo', 'marches', 'marek', 'margaret', 'maria', 'marines', 'maritime', 'marly', 'marquez', 'marrying', 'mary.ellenberger@enron.com', 'maryam', 'masks', 'massage', 'massoud', 'math', 'mathematical', 'mathematics', 'maureen', 'mayur...@yahoo.com', 'mcnamara', 'mcnuggets', 'meaningful', 'meats', 'mecca', 'mediation', 'medication', 'medici', 'medieval', 'mediocre', 'meier', 'meira', 'mekong', 'melanie', 'melts', 'memories', 'memos', 'mercury', 'merge', 'merger', 'merging', 'merrist', 'mesh', 'messenger', 'mia', 'michigan', 'microcomputer', 'microns', 'microscopic', 'microwave', 'mid-august', 'mid-july', 'midmarket', 'migrants', 'migrate', 'migrated', 'milan', 'militarily', 'mill', 'millet', 'mills', 'milnet', 'min', 'minded', 'minds', 'mini', 'miniature', 'minimizing', 'mining', 'minkin', 'minus', 'misc.consumers', 'misconception', 'miserable', 'miseries', 'misfortune', 'missions', 'mistaken', 'misunderstanding', 'mix', 'mo', 'mode', 'moderates', 'modus', 'moments', 'mon.', 'monarchy', \"monday's\", 'monies', 'monitored', 'monkey', 'montana', 'moreover', 'morgan', 'mormon', 'mornings', 'mortars', 'morton', 'mosque', 'motivation', 'motives', 'moyross', 'mpg', 'mt', 'mud', 'multi-national', 'municipal', 'museum', 'musician', 'musk', 'mussels', 'muster', 'mutilating', 'mutually', 'mwh', 'mysterious', 'myths', 'mytouch', 'nailed', 'naive', 'nalapat', 'naming', 'namsan', 'napa', 'nasty', 'nationalist', 'nationwide', 'nausea', 'nc', 'ncrc4me', 'ndi', 'neat', 'needles', 'negotiation', 'negotiations', 'neighborhoods', 'neighbouring', 'nella', 'nepalese', 'nepool', 'neuter', 'nevertheless', 'newark', 'nicely', 'nichols', 'nicks', 'nie', 'nigel', 'nigeria', 'nightlife', 'nile', 'nimr', 'nissan', 'nitrogen', 'nmanne@susmangodfrey.com', 'nobel', 'non-approved', 'non-human', 'nonbondad', 'noone', 'nordau', 'norma', 'northeast', 'nostrils', 'notebook.url', 'notion', 'nowadays', 'noyce', 'npr', 'nudes', 'numero', 'nva', 'nye', 'nz', 'obedience', 'objectives', 'objects', 'obl', 'observation', 'observe', 'obsessed', 'obtaining', 'occasional', 'occupancy', 'occupied', 'offerings', 'officiate', 'ogden', 'oglethorpe', 'omar', 'omg', 'ominous', 'omnibus', 'onshore', 'onwards', 'oops', 'openings', 'operandi', 'operated', 'operatives', 'opossums', 'opposition', 'ops', 'optimistic', 'optimization', 'ordinarily', 'ordinary', 'organisations', 'organised', 'organizing', 'origin', 'origination', 'orla', 'orlando', 'orr', 'oslo', 'outback', 'outdated', 'outdoors', 'outlet', 'output', 'outrageously', 'outward', 'oven', 'overbearing', 'overcrowded', 'overdue', 'overly', 'overnight', 'overtures', 'overwhelmingly', 'owes', 'ozs', 'p.o.', 'pacheco', 'packs', 'painter', 'painting', 'pakistanis', 'pale', 'palestine', 'palm', 'panic', 'papeluna', 'par', 'para', 'para13', 'paraded', 'paradero', 'paralegal', 'parameters', 'parish', 'parisian', 'parkway', 'parole', 'participant', 'participated', 'partition', 'partly', 'partnership', 'partnerships', 'pashtun', 'passenger', 'patent', 'patio', 'patronage', 'patrons', 'paw', 'payout', 'pc', 'pea', 'peacekeeping', 'peanuts', 'pedicures', 'peels', 'peggy', 'pen', 'penalties', 'pencil', 'pepper', 'percell,', 'percell@swbell.net', 'perception', 'performers', 'perfume', 'perkins', 'permitted', 'personable', 'personalized', 'persons', 'persue', 'pervaiz', 'pester', 'petersen', 'phd', 'phenomenon', 'phenophases', 'phillip', 'philosophy', 'phoebe', 'photograph', 'photographer', 'photographs', 'phrase', 'phy', 'physios', 'picketing', 'picky', 'pics', 'pigeon', 'pilates', 'pillow', 'pinto', 'pipefitters', 'piping', 'pisces', 'pit', 'pjm', 'plague', 'planeloads', 'plantation', 'plates', 'platform', 'platter', 'playstation', 'pleadings', 'plotter', 'plunge', 'poisoning', 'poland', 'polite', 'politely', 'poll', 'polluter', 'polluting', 'ponchatoula', 'poop', 'popped', 'porch', 'porte', 'portions', 'possessed', 'postal', 'postcards', 'postings', 'postpone', 'potable', 'pound', 'pounded', 'powder', 'powers', 'ppl', 'pr', 'practicing', 'praise', 'prayer', 'pre-killed', 'preacher', 'preachers', 'prearranged', 'preceded', 'predator', 'preferably', 'preference', 'pregnancy', 'premises', 'preparations', 'prepayment', 'prescribe', 'preseason', 'presently', 'presents', 'pretend', 'pretends', 'preventing', 'preventive', 'prey', 'priests', 'primaries', 'prince', 'princeton', 'prioritised', 'prizes', 'pro-india', 'probability', 'probing', 'proclaimed', 'prod', 'produces', 'professionals', 'profile', 'profit', 'profits', 'programming', 'progresses', 'promises', 'promoting', 'promotion', 'promotional', 'promptly', 'proponents', 'proportion', 'proposes', 'proposing', 'proprietary', 'prostitute', 'protects', 'protest', 'protestants', 'protested', 'protests', 'provinces', 'provincial', 'proxy', 'ps3', 'ps4', 'psp', 'psycho-spiritual', 'pubs', 'puff', 'pullers', 'punishment', 'puppet', 'purse', 'pursuant', 'pursue', 'pursuing', 'pyramid', 'qaim', 'qualifications', 'quetta', 'quit', 'quixote', 'quo', 'quotes', 'rac', 'rachel', 'racing', 'racking', 'radar', 'raging', 'raid', 'raisers', 'ramifications', 'ramp', 'ramtanu', 'ramzi', 'ranch', 'ranchers', 'ranges', 'ranked', 'rapid', 'rapidly', 'rave', 'rawalpindi', 're-read', 'reads', 'reagan', 'realise', 'realizing', 'realy', 'reasonably', 'reasoned', 'rebel', 'rebellion', 'rebuilding', 'recalculation', 'reccommend', 'receiver', 'recieve', 'recognition', 'recognize', 'recognized', 'reconciled', 'recovering', 'recreate', 'recreating', 'recruit', 'recruitment', 'reduction', 'redwood', 'reef', 'references', 'referral', 'reflection', 'refrigerator', 'refuses', 'regency', 'regimes', 'registrar', 'regrettable', 'reimbursable', 'rein', 'reintroduced', 'rejected', 'relates', 'reliability', 'reliant', 'reminded', 'removes', 'removing', 'rendered', 'renegade', 'renovation', 'renowned', 'rented', 'reopen', 'repeating', 'repercussions', 'replacing', 'replies', 'reps.', 'reptiles', 'republics', 'repulsive', 'reputable', 'rer', 'rescheduled', 'reservations', 'residence', 'resident', 'residents', 'residual', 'resisted', 'respectful', 'respecting', 'respective', 'respectively', 'respects', 'responding', 'resting', 'restructuring', 'resturant', 'retake', 'retaliate', 'retaliation', 'retarded', 'retirement', 'retreat', 'retrieve', 'reuters', 'revalue', 'revise', 'revived', 'revocation', 'rhythmically', 'richest', 'rico', 'rider', 'rides', 'rifles', 'rigged', 'rio', 'ripple', 'rittenhouse', 'rivalry', 'roaches', 'robin', 'robust', 'rockin', 'rocky', 'rode', 'roles', 'rollbacks', 'rolled', 'romance', 'romania', 'romanick', 'roofing', 'roosevelt', 'rot', 'rotation', 'rothko', 'rotorua', 'routes', 'routinely', 'rove', 'rover', 'rub', 'rudely', 'ruin', 'ruined', 'rumors', 'ruona', 'rushed', 's.d.', 'sacred', 'sadat', 'sadr', 'sailing', 'saintly', 'saleh', 'salesperson', 'sally', 'saltford', 'sampler', 'sanctions', 'sanctuary', 'sanskrit', 'saplings', 'sashimi', 'saudis', 'savings', 'saviour', 'scale', 'scammer', 'scanning', 'scaring', 'scenes', 'scheduling', 'scheuer', 'schooling', 'sciencem...@upi.com', 'sciri', 'scoop', 'scooping', 'scorpio', 'scotland', 'scrap', 'scratching', 'screaming', 'screened', 'screwed', 'scroll', 'scrub', 'scrutiny', 'sculpture', 'seasoned', 'seasons', 'seated', 'seating', 'secessionist', 'secondary', 'secretaries', 'secretly', 'sectarian', 'secular', 'seizures', 'selections', 'seleznov', 'seller', 'semi-automatic', 'senseless', 'sensitive', 'sensitivity', 'sentiment', 'seo', 'separation', 'sept', 'servant', 'services.doc', 'sessions', 'setback', 'settlements', 'shade', 'shankman', 'shanks', 'shaped', 'shawna', 'shedding', 'shee', 'sheep', 'sheikhs', 'sheila', 'shelters', 'shelves', 'shenzhou', 'sherri', 'shift', 'shifting', 'shine', 'shipping', 'shirt', 'shock', 'shona', 'shout', 'showroom', 'shrapnel', 'shreveport', 'shrii', 'shrink', 'shukrijumah', 'sibley', 'sicilian', 'sickness', 'siege', 'sigh', 'signals', 'simien', 'simone', 'simulation', 'singer', 'singles', 'sinhala', 'sinks', 'sixteen', 'sixth', 'sketchy', 'skipping', 'skull', 'skylight', 'skyrocketing', 'slack', 'slang', 'slaves', 'slick', 'slide', 'slip', 'slovenia', 'slowest', 'smirk', 'smithjones@ev1.net', 'smokers', 'sms', 'smuggled', 'snacks', 'snow', 'socal', 'solar', 'solicit', 'solidarity', 'someplace', 'sonic', 'soothing', 'soper', 'soul', 'soups', 'southwestern', 'spaces', 'sparks', 'spay', 'speakers', 'speaks', 'spears', 'specifics', 'specify', 'spell', 'spices', 'spill', 'sponsorship', 'spores', 'sport', 'spreading', 'spurs', 'squeeze', 'sr', 'stacey', 'staffed', 'staffs', 'stain', 'stamp', 'staple', 'stare', 'starters', 'starving', 'starzz', 'stating', 'stationery', 'stays', 'steady', 'stealing', 'steam', 'steffes', 'stephen', 'sticker', 'stony', 'stored', 'storing', 'stove', 'straightened', 'straits', 'strathmann', 'streak', 'streams', 'strengthened', 'stressful', 'strict', 'strife', 'stringing', 'strip', 'stripes', 'strippers', 'strobe', 'structuring', 'struggling', 'strzalka', 'stubley', 'studied', 'studios', 'stunk', 'stylist', 'sub', 'subcontinent', 'submerged', 'submits', 'subscription', 'subsequently', 'substance', 'substances', 'suburbs', 'subway', 'succeed', 'sucked', 'sufficiently', 'suffix', 'suitcases', 'sun.', 'supervisor', 'supplement', 'suppressed', 'surely', 'surgical', 'surprises', 'surprising', 'surroundings', 'surrounds', 'survey', 'survive', 'suspension', 'sutcliffe', 'sweat', 'swiffer', 'sworn', 'sydney', 'symbolism', 'symbolizes', 'sympathize', \"ta'\", 'tablets', 'tabs', 'taco', 'tacos', 'tactical', 'tag', 'taj', 'tale', 'tall', 'taller', 'tamed', 'tampa', 'tandem', 'tanker', 'tankers', 'tape', 'tarawa', 'tasteless', 'tastings', 'taurus', 'tavern', 'taxpayers', 'tco', 'tds', 'teachers', 'teaching', 'teen', 'teh', 'telephone', 'telephony', 'temp', 'temper', 'temperatures', 'temple', 'tended', 'tenn', 'teresa', 'terminal', 'testified', 'testify', 'texan', 'thanh', 'thankful', 'thankfully', 'theatre', 'theft', 'theirs', 'thelema', 'theme', 'therapy', 'thereafter', 'thermometer', 'thief', 'thieves', 'thoroughly', 'thousand', 'threatens', 'threshold', 'throwing', 'thrown', 'thur.', 'thwarted', 'thyroid', 'tide', 'tiffany', 'tikrit', 'til', 'timetable', 'tin', 'tina', 'tks', 'tmobile', 'toenail', 'toledo', 'tommorow', 'tongues', 'tonnage', 'tonnes', 'torch', 'tori', 'tossed', 'totes', 'touching', 'tournament', 'tow', 'towels', 'tower', 'township', 'toy', 'toyota', 'tozzini', 'traced', 'tracks', 'tract', 'tradename', 'traditional', 'traditionally', 'traditions', 'trafficking', 'tragedy', 'tragic', 'trailer', 'trailers', 'trails', 'trainers', 'trains', 'transatlantic', 'transfers', 'translate', 'translated', 'transparent', 'travelled', 'travellers', 'tre', 'tree', 'trend', 'trends', 'tribal', 'trick', 'trickle', 'tries', 'triggered', 'trios', 'tripartite', 'trivial', 'tronicus', 'trotters', 'troubled', 'troubles', 'troy', 'truely', 'trusty', 'tsunami', 'tube', \"tuesday's\", 'tug', 'tupperwear', 'tutorial', 'twin', 'u$', 'u.n.', 'u.s.a', 'u.t.', 'ucan', 'ucas', 'ukraine', 'ulistic', 'ulterior', 'ultrasonic', 'ummmm', 'unacceptable', 'unanimously', 'unaware', 'unbeatable', 'uncertain', 'uncertainty', 'uncommon', 'unconnected', 'uncut', 'undecided', 'underage', 'underneath', 'understandable', 'understandably', 'underwear', 'unfair', 'unfortunate', 'unfriendly', 'uni', 'unprecedented', 'unpredictable', 'unreported', 'unthinkable', 'unwillingness', 'upheaval', 'upset', 'urgent', 'urinals', 'urinary', 'usmani', 'utensils', 'uth', 'utterly', 'uv', 'vain', 'vajpayee', 'valued', 'vanilla', 'vanish', 'vary', 'vaunted', 'vent', 'ventilator', 'verdict', 'verified', 'verifies', 'verizon', 'versa', 'versus', 'veteran', 'veterinary', 'vi', 'viability', 'vial', 'vic', 'vicsandra', 'victor', 'videoconference', 'vigorously', 'violation', 'virgo', 'virility', 'virtual', 'virus', 'visas', 'vision', 'visitor', 'visualisations', 'visualization', 'visualizations', 'visualize', 'vocals', 'vof', 'volunteer', 'vulnerability', 'wade', 'wager', 'wagon', 'waist', 'wal', 'wallen', 'wallet', 'walloch', 'walters', 'wander', 'warlord', 'warmly', 'warner', 'warpspeed', 'warren', 'wasp', 'waterfalls', 'waterproof', 'watt', 'wavy', 'wax', 'wazed', 'weakened', 'weakening', 'weblogic', 'webpage', 'wed', 'weil', 'weird', 'welch', 'wether', 'whatsoever', 'wherever', 'whim', 'wholly', 'whore', 'wielding', 'wikipedia', 'wildernest', 'williams', 'willingness', 'wilt', 'wines', 'wins', 'winton', 'wires', 'wisdom', 'withdrawn', 'withdrew', 'witnesses', 'wolak', 'wolens', 'wonderfully', 'wonders', 'woodinville', 'wordy', 'workpapers', 'worksheet', 'worn', 'worship', 'worthy', 'woud', 'wrapping', 'wrinkles', 'writer', 'www', 'www.weathereffects.com', 'x35172', 'x365', 'xferring', 'y', 'ya', 'yahoos', 'yanhee', 'yards', 'youngstown', 'yourselves', 'yousef', 'yr', 'yrs', 'zahav', '{', '|--------+----------------------->', '‘', '….']\n"
     ]
    }
   ],
   "source": [
    "print(TEXT.vocab.itos)"
   ],
   "metadata": {
    "collapsed": false,
    "pycharm": {
     "name": "#%%\n"
    }
   }
  },
  {
   "cell_type": "code",
   "execution_count": 104,
   "outputs": [
    {
     "name": "stderr",
     "output_type": "stream",
     "text": [
      "/Library/Frameworks/Python.framework/Versions/3.7/lib/python3.7/site-packages/torchtext/data/iterator.py:48: UserWarning: BucketIterator class will be retired in the 0.8.0 release and moved to torchtext.legacy. Please see 0.7.0 release notes for further information.\n",
      "  warnings.warn('{} class will be retired in the 0.8.0 release and moved to torchtext.legacy. Please see 0.7.0 release notes for further information.'.format(self.__class__.__name__), UserWarning)\n"
     ]
    }
   ],
   "source": [
    "BATCH_SIZE = 128\n",
    "\n",
    "device = torch.device('cuda' if torch.cuda.is_available() else 'cpu')\n",
    "\n",
    "train_iterator, val_iterator, test_iterator = data.BucketIterator.splits(\n",
    "    (train_data, val_data, test_data),\n",
    "    batch_size = BATCH_SIZE,\n",
    "    device = device\n",
    ")"
   ],
   "metadata": {
    "collapsed": false,
    "pycharm": {
     "name": "#%%\n"
    }
   }
  },
  {
   "cell_type": "code",
   "execution_count": 105,
   "outputs": [],
   "source": [
    "class BiLSTMPOSTagger(nn.Module):\n",
    "    def __init__(self,\n",
    "                 input_dim,\n",
    "                 embedding_dim,\n",
    "                 hidden_dim,\n",
    "                 output_dim,\n",
    "                 n_layers,\n",
    "                 bidirectional,\n",
    "                 dropout,\n",
    "                 pad_idx):\n",
    "        super().__init__()\n",
    "\n",
    "        self.embedding = nn.Embedding(input_dim, embedding_dim, padding_idx = pad_idx)\n",
    "\n",
    "        self.lstm = nn.LSTM(embedding_dim,\n",
    "                            hidden_dim,\n",
    "                            num_layers = n_layers,\n",
    "                            bidirectional = bidirectional,\n",
    "                            dropout = dropout if n_layers > 1 else 0)\n",
    "\n",
    "        self.fc = nn.Linear(hidden_dim * 2 if bidirectional else hidden_dim, output_dim)\n",
    "\n",
    "        self.dropout = nn.Dropout(dropout)\n",
    "\n",
    "    def forward(self, text):\n",
    "        #text = [sent len, batch size]\n",
    "\n",
    "        embedded = self.dropout(self.embedding(text))\n",
    "\n",
    "        #embedded = [sent len, batch size, emb size]\n",
    "\n",
    "        outputs, (hidden, cell) = self.lstm(embedded)\n",
    "\n",
    "        predictions = self.fc(self.dropout(outputs))\n",
    "\n",
    "        return predictions\n"
   ],
   "metadata": {
    "collapsed": false,
    "pycharm": {
     "name": "#%%\n"
    }
   }
  },
  {
   "cell_type": "code",
   "execution_count": 106,
   "outputs": [],
   "source": [
    "INPUT_DIM = len(TEXT.vocab)\n",
    "EMBEDDING_DIM = 100\n",
    "HIDDEN_DIM = 128\n",
    "OUTPUT_DIM = len(UD_TAGS.vocab)\n",
    "N_LAYERS = 2\n",
    "BIDIRECTIONAL = True\n",
    "DROPOUT = 0.25\n",
    "PAD_IDX = TEXT.vocab.stoi[TEXT.pad_token]\n",
    "\n",
    "model = BiLSTMPOSTagger(INPUT_DIM,\n",
    "                        EMBEDDING_DIM,\n",
    "                        HIDDEN_DIM,\n",
    "                        OUTPUT_DIM,\n",
    "                        N_LAYERS,\n",
    "                        BIDIRECTIONAL,\n",
    "                        DROPOUT,\n",
    "                        PAD_IDX)"
   ],
   "metadata": {
    "collapsed": false,
    "pycharm": {
     "name": "#%%\n"
    }
   }
  },
  {
   "cell_type": "code",
   "execution_count": 107,
   "outputs": [
    {
     "data": {
      "text/plain": "BiLSTMPOSTagger(\n  (embedding): Embedding(8866, 100, padding_idx=1)\n  (lstm): LSTM(100, 128, num_layers=2, dropout=0.25, bidirectional=True)\n  (fc): Linear(in_features=256, out_features=18, bias=True)\n  (dropout): Dropout(p=0.25, inplace=False)\n)"
     },
     "execution_count": 107,
     "metadata": {},
     "output_type": "execute_result"
    }
   ],
   "source": [
    "def init_weights(m):\n",
    "    for name, param in m.named_parameters():\n",
    "        nn.init.normal_(param.data, mean = 0, std = 0.1)\n",
    "\n",
    "model.apply(init_weights)"
   ],
   "metadata": {
    "collapsed": false,
    "pycharm": {
     "name": "#%%\n"
    }
   }
  },
  {
   "cell_type": "code",
   "execution_count": 109,
   "outputs": [
    {
     "name": "stdout",
     "output_type": "stream",
     "text": [
      "The model has 1522010 trainable parameters\n"
     ]
    }
   ],
   "source": [
    "def count_parameters(model):\n",
    "    return sum(p.numel() for p in model.parameters() if p.requires_grad)\n",
    "\n",
    "print(\"The model has {} trainable parameters\".format(count_parameters(model)))"
   ],
   "metadata": {
    "collapsed": false,
    "pycharm": {
     "name": "#%%\n"
    }
   }
  },
  {
   "cell_type": "code",
   "execution_count": 110,
   "outputs": [
    {
     "name": "stdout",
     "output_type": "stream",
     "text": [
      "tensor([[ 0.0070,  0.0035, -0.0052,  ..., -0.0327,  0.1718, -0.1129],\n",
      "        [ 0.0000,  0.0000,  0.0000,  ...,  0.0000,  0.0000,  0.0000],\n",
      "        [ 0.0742,  0.0897, -0.1725,  ...,  0.0885, -0.1142,  0.1798],\n",
      "        ...,\n",
      "        [-0.0940, -0.0592, -0.0242,  ..., -0.1438, -0.0581,  0.0398],\n",
      "        [ 0.2084,  0.0594, -0.1474,  ..., -0.0104,  0.0608, -0.0354],\n",
      "        [-0.2271,  0.1532, -0.0793,  ...,  0.0072,  0.1115, -0.1867]])\n"
     ]
    }
   ],
   "source": [
    "model.embedding.weight.data[PAD_IDX] = torch.zeros(EMBEDDING_DIM)\n",
    "\n",
    "print(model.embedding.weight.data)\n"
   ],
   "metadata": {
    "collapsed": false,
    "pycharm": {
     "name": "#%%\n"
    }
   }
  },
  {
   "cell_type": "code",
   "execution_count": 111,
   "outputs": [],
   "source": [
    "optimizer = torch.optim.Adam(model.parameters())"
   ],
   "metadata": {
    "collapsed": false,
    "pycharm": {
     "name": "#%%\n"
    }
   }
  },
  {
   "cell_type": "code",
   "execution_count": 112,
   "outputs": [],
   "source": [
    "TAG_PAD_IDX = UD_TAGS.vocab.stoi[UD_TAGS.pad_token]\n",
    "\n",
    "criterion = nn.CrossEntropyLoss(ignore_index = TAG_PAD_IDX)"
   ],
   "metadata": {
    "collapsed": false,
    "pycharm": {
     "name": "#%%\n"
    }
   }
  },
  {
   "cell_type": "code",
   "execution_count": 113,
   "outputs": [
    {
     "data": {
      "text/plain": "CrossEntropyLoss()"
     },
     "execution_count": 113,
     "metadata": {},
     "output_type": "execute_result"
    }
   ],
   "source": [
    "model = model.to(device)\n",
    "criterion.to(device)"
   ],
   "metadata": {
    "collapsed": false,
    "pycharm": {
     "name": "#%%\n"
    }
   }
  },
  {
   "cell_type": "code",
   "execution_count": 114,
   "outputs": [],
   "source": [
    "def categorical_accuracy(preds, y, tag_pad_idx):\n",
    "    max_preds = preds.argmax(dim = 1, keepdim = True)\n",
    "    non_pad_elements = (y != tag_pad_idx).nonzero()\n",
    "    correct = max_preds[non_pad_elements].squeeze(1).eq(y[non_pad_elements])\n",
    "    return correct.sum() / torch.FloatTensor([y[non_pad_elements].shape[0]])"
   ],
   "metadata": {
    "collapsed": false,
    "pycharm": {
     "name": "#%%\n"
    }
   }
  },
  {
   "cell_type": "code",
   "execution_count": 121,
   "outputs": [],
   "source": [
    "def train(model, iterator, optimizer, criterion, tag_pad_idx):\n",
    "    epoch_loss = 0\n",
    "    epoch_acc = 0\n",
    "\n",
    "    model.train()\n",
    "\n",
    "    for batch in iterator:\n",
    "        text = batch.text\n",
    "        tags = batch.tags\n",
    "\n",
    "        optimizer.zero_grad()\n",
    "\n",
    "        predictions = model(text)\n",
    "\n",
    "        # reshape predictions since pytorch can't handle 3-dimensional predictions\n",
    "        predictions = predictions.view(-1, predictions.shape[-1])\n",
    "        tags = tags.view(-1)\n",
    "\n",
    "        loss = criterion(predictions, tags)\n",
    "\n",
    "        acc = categorical_accuracy(predictions, tags, tag_pad_idx)\n",
    "\n",
    "        loss.backward()\n",
    "        optimizer.step()\n",
    "\n",
    "        epoch_loss += loss.item()\n",
    "        epoch_acc += acc.item()\n",
    "\n",
    "    return epoch_loss / len(iterator), epoch_acc / len(iterator)"
   ],
   "metadata": {
    "collapsed": false,
    "pycharm": {
     "name": "#%%\n"
    }
   }
  },
  {
   "cell_type": "code",
   "execution_count": 124,
   "outputs": [],
   "source": [
    "def evaluate(model, iterator, criterion, tag_pad_idx):\n",
    "    epoch_loss = 0\n",
    "    epoch_acc = 0\n",
    "\n",
    "    model.eval()\n",
    "\n",
    "    with torch.no_grad():\n",
    "        for batch in iterator:\n",
    "            text = batch.text\n",
    "            tags = batch.tags\n",
    "\n",
    "            predictions = model(text)\n",
    "\n",
    "            predictions = predictions.view(-1, predictions.shape[-1])\n",
    "            tags = tags.view(-1)\n",
    "\n",
    "            loss = criterion(predictions, tags)\n",
    "            acc = categorical_accuracy(predictions, tags, tag_pad_idx)\n",
    "\n",
    "            epoch_loss += loss.item()\n",
    "            epoch_acc += acc.item()\n",
    "\n",
    "    return epoch_loss / len(iterator), epoch_acc / len(iterator)"
   ],
   "metadata": {
    "collapsed": false,
    "pycharm": {
     "name": "#%%\n"
    }
   }
  },
  {
   "cell_type": "code",
   "execution_count": 126,
   "outputs": [
    {
     "name": "stderr",
     "output_type": "stream",
     "text": [
      "/Library/Frameworks/Python.framework/Versions/3.7/lib/python3.7/site-packages/torchtext/data/batch.py:23: UserWarning: Batch class will be retired in the 0.8.0 release and moved to torchtext.legacy. Please see 0.7.0 release notes for further information.\n",
      "  warnings.warn('{} class will be retired in the 0.8.0 release and moved to torchtext.legacy. Please see 0.7.0 release notes for further information.'.format(self.__class__.__name__), UserWarning)\n"
     ]
    },
    {
     "name": "stdout",
     "output_type": "stream",
     "text": [
      "Epoch: 1\n",
      "Train Loss: 0.309 | Train Acc: 0.906\n",
      "Val Loss: 0.479 | Val Acc: 0.854\n",
      "Epoch: 2\n",
      "Train Loss: 0.240 | Train Acc: 0.926\n",
      "Val Loss: 0.444 | Val Acc: 0.868\n",
      "Epoch: 3\n",
      "Train Loss: 0.204 | Train Acc: 0.936\n",
      "Val Loss: 0.430 | Val Acc: 0.870\n",
      "Epoch: 4\n",
      "Train Loss: 0.180 | Train Acc: 0.943\n",
      "Val Loss: 0.421 | Val Acc: 0.869\n",
      "Epoch: 5\n",
      "Train Loss: 0.163 | Train Acc: 0.949\n",
      "Val Loss: 0.409 | Val Acc: 0.867\n",
      "Epoch: 6\n",
      "Train Loss: 0.148 | Train Acc: 0.953\n",
      "Val Loss: 0.411 | Val Acc: 0.874\n",
      "Epoch: 7\n",
      "Train Loss: 0.136 | Train Acc: 0.957\n",
      "Val Loss: 0.404 | Val Acc: 0.877\n",
      "Epoch: 8\n",
      "Train Loss: 0.125 | Train Acc: 0.960\n",
      "Val Loss: 0.410 | Val Acc: 0.875\n",
      "Epoch: 9\n",
      "Train Loss: 0.115 | Train Acc: 0.963\n",
      "Val Loss: 0.412 | Val Acc: 0.884\n",
      "Epoch: 10\n",
      "Train Loss: 0.108 | Train Acc: 0.966\n",
      "Val Loss: 0.413 | Val Acc: 0.883\n"
     ]
    }
   ],
   "source": [
    "N_EPOCHS = 10\n",
    "\n",
    "best_val_loss = float('inf')\n",
    "\n",
    "for epoch in range(N_EPOCHS):\n",
    "    train_loss, train_acc = train(model, train_iterator, optimizer, criterion, TAG_PAD_IDX)\n",
    "    val_loss, val_acc = evaluate(model, val_iterator, criterion, TAG_PAD_IDX)\n",
    "\n",
    "    if val_loss < best_val_loss:\n",
    "        best_val_loss = val_loss\n",
    "        torch.save(model.state_dict(), 'model.pt')\n",
    "\n",
    "    print(\"Epoch: {}\".format(epoch+1))\n",
    "    print(f\"Train Loss: {train_loss:.3f} | Train Acc: {train_acc:.3f}\")\n",
    "    print(f\"Val Loss: {val_loss:.3f} | Val Acc: {val_acc:.3f}\")"
   ],
   "metadata": {
    "collapsed": false,
    "pycharm": {
     "name": "#%%\n"
    }
   }
  },
  {
   "cell_type": "code",
   "execution_count": null,
   "outputs": [],
   "source": [],
   "metadata": {
    "collapsed": false,
    "pycharm": {
     "name": "#%%\n"
    }
   }
  }
 ],
 "metadata": {
  "kernelspec": {
   "display_name": "Python 3",
   "language": "python",
   "name": "python3"
  },
  "language_info": {
   "codemirror_mode": {
    "name": "ipython",
    "version": 3
   },
   "file_extension": ".py",
   "mimetype": "text/x-python",
   "name": "python",
   "nbconvert_exporter": "python",
   "pygments_lexer": "ipython3",
   "version": "3.6.8"
  }
 },
 "nbformat": 4,
 "nbformat_minor": 4
}